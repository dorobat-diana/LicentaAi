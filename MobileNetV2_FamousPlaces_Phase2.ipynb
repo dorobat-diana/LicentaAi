{
  "nbformat": 4,
  "nbformat_minor": 0,
  "metadata": {
    "colab": {
      "provenance": [],
      "machine_shape": "hm",
      "gpuType": "A100",
      "authorship_tag": "ABX9TyNhA2I/FULcUEGzOtK+ZcNE",
      "include_colab_link": true
    },
    "kernelspec": {
      "name": "python3",
      "display_name": "Python 3"
    },
    "language_info": {
      "name": "python"
    },
    "accelerator": "GPU"
  },
  "cells": [
    {
      "cell_type": "markdown",
      "metadata": {
        "id": "view-in-github",
        "colab_type": "text"
      },
      "source": [
        "<a href=\"https://colab.research.google.com/github/dorobat-diana/LicentaAi/blob/main/MobileNetV2_FamousPlaces_Phase2.ipynb\" target=\"_parent\"><img src=\"https://colab.research.google.com/assets/colab-badge.svg\" alt=\"Open In Colab\"/></a>"
      ]
    },
    {
      "cell_type": "markdown",
      "source": [
        "Step 1: Import required libraries"
      ],
      "metadata": {
        "id": "l-Icmd7mroNW"
      }
    },
    {
      "cell_type": "code",
      "source": [
        "import tensorflow as tf\n",
        "from tensorflow.keras.models import load_model\n",
        "from tensorflow.keras.applications import MobileNetV2"
      ],
      "metadata": {
        "id": "dKpcuAWhrofU"
      },
      "execution_count": null,
      "outputs": []
    },
    {
      "cell_type": "markdown",
      "source": [
        "\n",
        "Step 2: Mount Google Drive (if not already mounted)"
      ],
      "metadata": {
        "id": "J7bOGtdWrsup"
      }
    },
    {
      "cell_type": "code",
      "source": [
        "from google.colab import drive\n",
        "drive.mount('/content/drive')"
      ],
      "metadata": {
        "colab": {
          "base_uri": "https://localhost:8080/"
        },
        "id": "c3iETXJIrs6y",
        "outputId": "dcf0df2d-4b34-4559-da05-a03521d121c9"
      },
      "execution_count": null,
      "outputs": [
        {
          "output_type": "stream",
          "name": "stdout",
          "text": [
            "Mounted at /content/drive\n"
          ]
        }
      ]
    },
    {
      "cell_type": "markdown",
      "source": [
        " Step 3: Load your previously trained model"
      ],
      "metadata": {
        "id": "BBesBCgWrxLx"
      }
    },
    {
      "cell_type": "code",
      "source": [
        "model_path = '/content/drive/MyDrive/ColabNotebooks/results/MobileNetV2_FamousPlaces/best_model.h5'\n",
        "model = load_model(model_path)"
      ],
      "metadata": {
        "colab": {
          "base_uri": "https://localhost:8080/"
        },
        "id": "g1bxcgt8rxXT",
        "outputId": "fedd2a63-09d6-4432-b288-cfc3b86d5b2f"
      },
      "execution_count": null,
      "outputs": [
        {
          "output_type": "stream",
          "name": "stderr",
          "text": [
            "WARNING:absl:Compiled the loaded model, but the compiled metrics have yet to be built. `model.compile_metrics` will be empty until you train or evaluate the model.\n"
          ]
        }
      ]
    },
    {
      "cell_type": "markdown",
      "source": [
        "Step 4: Identify the MobileNetV2 base model inside your saved model"
      ],
      "metadata": {
        "id": "g6FY3ooXr3vP"
      }
    },
    {
      "cell_type": "code",
      "source": [
        "base_model = None\n",
        "for layer in model.layers:\n",
        "    if isinstance(layer, tf.keras.Model) and 'mobilenetv2' in layer.name.lower():\n",
        "        base_model = layer\n",
        "        break\n",
        "\n",
        "if base_model is None:\n",
        "    raise ValueError(\"Could not find MobileNetV2 base model in the loaded model.\")"
      ],
      "metadata": {
        "id": "-Qn7ET0Kr34o"
      },
      "execution_count": null,
      "outputs": []
    },
    {
      "cell_type": "markdown",
      "source": [
        "Step 5: Unfreeze the last N layers"
      ],
      "metadata": {
        "id": "9HEsse6PseRT"
      }
    },
    {
      "cell_type": "code",
      "source": [
        "N = 5\n",
        "base_model.trainable = True\n",
        "for layer in base_model.layers[:-N]:\n",
        "    layer.trainable = False"
      ],
      "metadata": {
        "id": "YxIZwSsOseeE"
      },
      "execution_count": null,
      "outputs": []
    },
    {
      "cell_type": "markdown",
      "source": [
        "\n",
        "Step 6: Recompile the model (needed after changing layer trainability)"
      ],
      "metadata": {
        "id": "4IljOE4mtfKM"
      }
    },
    {
      "cell_type": "code",
      "source": [
        "model.compile(optimizer=tf.keras.optimizers.Adam(1e-5),\n",
        "              loss='categorical_crossentropy',\n",
        "              metrics=['accuracy'])\n"
      ],
      "metadata": {
        "id": "k6D-zUKktfdU"
      },
      "execution_count": null,
      "outputs": []
    },
    {
      "cell_type": "markdown",
      "source": [
        "Step 7: Save the updated model"
      ],
      "metadata": {
        "id": "CyM94psltigK"
      }
    },
    {
      "cell_type": "code",
      "source": [
        "new_model_path = '/content/drive/MyDrive/ColabNotebooks/results/MobileNetV2_FamousPlaces/unfrozen_model.h5'\n",
        "model.save(new_model_path)\n",
        "\n",
        "print(f\"Model updated and saved to: {new_model_path}\")"
      ],
      "metadata": {
        "colab": {
          "base_uri": "https://localhost:8080/"
        },
        "id": "zAsTl8MXtiqD",
        "outputId": "90a42a08-51ce-4ebf-d183-c4be836b5160"
      },
      "execution_count": null,
      "outputs": [
        {
          "output_type": "stream",
          "name": "stderr",
          "text": [
            "WARNING:absl:You are saving your model as an HDF5 file via `model.save()` or `keras.saving.save_model(model)`. This file format is considered legacy. We recommend using instead the native Keras format, e.g. `model.save('my_model.keras')` or `keras.saving.save_model(model, 'my_model.keras')`. \n"
          ]
        },
        {
          "output_type": "stream",
          "name": "stdout",
          "text": [
            "✅ Model updated and saved to: /content/drive/MyDrive/ColabNotebooks/results/MobileNetV2_FamousPlaces/unfrozen_model.h5\n"
          ]
        }
      ]
    },
    {
      "cell_type": "code",
      "source": [
        "from tensorflow.keras.preprocessing.image import ImageDataGenerator\n",
        "from tensorflow.keras.callbacks import EarlyStopping, ModelCheckpoint\n",
        "train_dir = '/content/drive/MyDrive/ColabNotebooks/data/famous_places/train'\n",
        "test_dir = '/content/drive/MyDrive/ColabNotebooks/data/famous_places/test'\n",
        "img_size = (224, 224)\n",
        "batch_size = 32\n",
        "\n",
        "train_datagen = ImageDataGenerator(\n",
        "    rescale=1./255,\n",
        "    rotation_range=40,\n",
        "    width_shift_range=0.2,\n",
        "    height_shift_range=0.2,\n",
        "    shear_range=0.2,\n",
        "    zoom_range=0.2,\n",
        "    horizontal_flip=True,\n",
        "    fill_mode='nearest'\n",
        ")\n",
        "\n",
        "test_datagen = ImageDataGenerator(rescale=1./255)\n",
        "\n",
        "train_generator = train_datagen.flow_from_directory(\n",
        "    train_dir,\n",
        "    target_size=img_size,\n",
        "    batch_size=batch_size,\n",
        "    class_mode='categorical',\n",
        "    shuffle=True\n",
        ")\n",
        "\n",
        "test_generator = test_datagen.flow_from_directory(\n",
        "    test_dir,\n",
        "    target_size=img_size,\n",
        "    batch_size=batch_size,\n",
        "    class_mode='categorical',\n",
        "    shuffle=False\n",
        ")\n"
      ],
      "metadata": {
        "colab": {
          "base_uri": "https://localhost:8080/"
        },
        "id": "55G8HaDDt1VB",
        "outputId": "fef5dbec-cc8b-476d-ee9c-6b1255426518"
      },
      "execution_count": null,
      "outputs": [
        {
          "output_type": "stream",
          "name": "stdout",
          "text": [
            "Found 3050 images belonging to 50 classes.\n",
            "Found 3050 images belonging to 50 classes.\n"
          ]
        }
      ]
    },
    {
      "cell_type": "markdown",
      "source": [
        "Fine tune the model with the 5 unfrozen layers"
      ],
      "metadata": {
        "id": "Z4NB2KQptzG3"
      }
    },
    {
      "cell_type": "code",
      "source": [
        "\n",
        "early_stopping = EarlyStopping(monitor='val_loss', patience=5, restore_best_weights=True)\n",
        "checkpoint = ModelCheckpoint('/content/drive/MyDrive/ColabNotebooks/results/MobileNetV2_FamousPlaces/fine_tuned_model.h5',\n",
        "                             monitor='val_loss', save_best_only=True)\n",
        "\n",
        "history = model.fit(\n",
        "    train_generator,\n",
        "    epochs=10,\n",
        "    validation_data=test_generator,\n",
        "    callbacks=[early_stopping, checkpoint],\n",
        "    verbose=2\n",
        ")\n",
        "\n",
        "test_loss, test_accuracy = model.evaluate(test_generator)\n",
        "print(f\"Test accuracy: {test_accuracy * 100:.2f}%\")"
      ],
      "metadata": {
        "colab": {
          "base_uri": "https://localhost:8080/"
        },
        "id": "IJ84tCnJuMJw",
        "outputId": "ee63d493-148e-463c-a530-f111ea48b488"
      },
      "execution_count": null,
      "outputs": [
        {
          "output_type": "stream",
          "name": "stderr",
          "text": [
            "/usr/local/lib/python3.11/dist-packages/keras/src/trainers/data_adapters/py_dataset_adapter.py:121: UserWarning: Your `PyDataset` class should call `super().__init__(**kwargs)` in its constructor. `**kwargs` can include `workers`, `use_multiprocessing`, `max_queue_size`. Do not pass these arguments to `fit()`, as they will be ignored.\n",
            "  self._warn_if_super_not_called()\n"
          ]
        },
        {
          "output_type": "stream",
          "name": "stdout",
          "text": [
            "Epoch 1/10\n"
          ]
        },
        {
          "output_type": "stream",
          "name": "stderr",
          "text": [
            "WARNING:absl:You are saving your model as an HDF5 file via `model.save()` or `keras.saving.save_model(model)`. This file format is considered legacy. We recommend using instead the native Keras format, e.g. `model.save('my_model.keras')` or `keras.saving.save_model(model, 'my_model.keras')`. \n"
          ]
        },
        {
          "output_type": "stream",
          "name": "stdout",
          "text": [
            "96/96 - 1914s - 20s/step - accuracy: 0.6905 - loss: 1.1867 - val_accuracy: 0.7748 - val_loss: 0.8649\n",
            "Epoch 2/10\n"
          ]
        },
        {
          "output_type": "stream",
          "name": "stderr",
          "text": [
            "WARNING:absl:You are saving your model as an HDF5 file via `model.save()` or `keras.saving.save_model(model)`. This file format is considered legacy. We recommend using instead the native Keras format, e.g. `model.save('my_model.keras')` or `keras.saving.save_model(model, 'my_model.keras')`. \n"
          ]
        },
        {
          "output_type": "stream",
          "name": "stdout",
          "text": [
            "96/96 - 372s - 4s/step - accuracy: 0.7275 - loss: 1.0322 - val_accuracy: 0.7774 - val_loss: 0.8578\n",
            "Epoch 3/10\n"
          ]
        },
        {
          "output_type": "stream",
          "name": "stderr",
          "text": [
            "WARNING:absl:You are saving your model as an HDF5 file via `model.save()` or `keras.saving.save_model(model)`. This file format is considered legacy. We recommend using instead the native Keras format, e.g. `model.save('my_model.keras')` or `keras.saving.save_model(model, 'my_model.keras')`. \n"
          ]
        },
        {
          "output_type": "stream",
          "name": "stdout",
          "text": [
            "96/96 - 370s - 4s/step - accuracy: 0.7380 - loss: 1.0045 - val_accuracy: 0.7777 - val_loss: 0.8575\n",
            "Epoch 4/10\n"
          ]
        },
        {
          "output_type": "stream",
          "name": "stderr",
          "text": [
            "WARNING:absl:You are saving your model as an HDF5 file via `model.save()` or `keras.saving.save_model(model)`. This file format is considered legacy. We recommend using instead the native Keras format, e.g. `model.save('my_model.keras')` or `keras.saving.save_model(model, 'my_model.keras')`. \n"
          ]
        },
        {
          "output_type": "stream",
          "name": "stdout",
          "text": [
            "96/96 - 385s - 4s/step - accuracy: 0.7426 - loss: 0.9613 - val_accuracy: 0.7797 - val_loss: 0.8426\n",
            "Epoch 5/10\n"
          ]
        },
        {
          "output_type": "stream",
          "name": "stderr",
          "text": [
            "WARNING:absl:You are saving your model as an HDF5 file via `model.save()` or `keras.saving.save_model(model)`. This file format is considered legacy. We recommend using instead the native Keras format, e.g. `model.save('my_model.keras')` or `keras.saving.save_model(model, 'my_model.keras')`. \n"
          ]
        },
        {
          "output_type": "stream",
          "name": "stdout",
          "text": [
            "96/96 - 380s - 4s/step - accuracy: 0.7466 - loss: 0.9521 - val_accuracy: 0.7862 - val_loss: 0.8244\n",
            "Epoch 6/10\n"
          ]
        },
        {
          "output_type": "stream",
          "name": "stderr",
          "text": [
            "WARNING:absl:You are saving your model as an HDF5 file via `model.save()` or `keras.saving.save_model(model)`. This file format is considered legacy. We recommend using instead the native Keras format, e.g. `model.save('my_model.keras')` or `keras.saving.save_model(model, 'my_model.keras')`. \n"
          ]
        },
        {
          "output_type": "stream",
          "name": "stdout",
          "text": [
            "96/96 - 375s - 4s/step - accuracy: 0.7518 - loss: 0.9429 - val_accuracy: 0.7889 - val_loss: 0.8042\n",
            "Epoch 7/10\n"
          ]
        },
        {
          "output_type": "stream",
          "name": "stderr",
          "text": [
            "WARNING:absl:You are saving your model as an HDF5 file via `model.save()` or `keras.saving.save_model(model)`. This file format is considered legacy. We recommend using instead the native Keras format, e.g. `model.save('my_model.keras')` or `keras.saving.save_model(model, 'my_model.keras')`. \n"
          ]
        },
        {
          "output_type": "stream",
          "name": "stdout",
          "text": [
            "96/96 - 371s - 4s/step - accuracy: 0.7538 - loss: 0.9100 - val_accuracy: 0.7954 - val_loss: 0.7812\n",
            "Epoch 8/10\n"
          ]
        },
        {
          "output_type": "stream",
          "name": "stderr",
          "text": [
            "WARNING:absl:You are saving your model as an HDF5 file via `model.save()` or `keras.saving.save_model(model)`. This file format is considered legacy. We recommend using instead the native Keras format, e.g. `model.save('my_model.keras')` or `keras.saving.save_model(model, 'my_model.keras')`. \n"
          ]
        },
        {
          "output_type": "stream",
          "name": "stdout",
          "text": [
            "96/96 - 376s - 4s/step - accuracy: 0.7738 - loss: 0.8571 - val_accuracy: 0.8003 - val_loss: 0.7660\n",
            "Epoch 9/10\n"
          ]
        },
        {
          "output_type": "stream",
          "name": "stderr",
          "text": [
            "WARNING:absl:You are saving your model as an HDF5 file via `model.save()` or `keras.saving.save_model(model)`. This file format is considered legacy. We recommend using instead the native Keras format, e.g. `model.save('my_model.keras')` or `keras.saving.save_model(model, 'my_model.keras')`. \n"
          ]
        },
        {
          "output_type": "stream",
          "name": "stdout",
          "text": [
            "96/96 - 384s - 4s/step - accuracy: 0.7777 - loss: 0.8375 - val_accuracy: 0.8023 - val_loss: 0.7493\n",
            "Epoch 10/10\n"
          ]
        },
        {
          "output_type": "stream",
          "name": "stderr",
          "text": [
            "WARNING:absl:You are saving your model as an HDF5 file via `model.save()` or `keras.saving.save_model(model)`. This file format is considered legacy. We recommend using instead the native Keras format, e.g. `model.save('my_model.keras')` or `keras.saving.save_model(model, 'my_model.keras')`. \n"
          ]
        },
        {
          "output_type": "stream",
          "name": "stdout",
          "text": [
            "96/96 - 399s - 4s/step - accuracy: 0.7856 - loss: 0.8296 - val_accuracy: 0.8075 - val_loss: 0.7351\n",
            "\u001b[1m40/96\u001b[0m \u001b[32m━━━━━━━━\u001b[0m\u001b[37m━━━━━━━━━━━━\u001b[0m \u001b[1m1:25\u001b[0m 2s/step - accuracy: 0.7643 - loss: 0.8031"
          ]
        }
      ]
    },
    {
      "cell_type": "code",
      "source": [
        "from tensorflow import keras\n",
        "from tensorflow.keras.preprocessing.image import ImageDataGenerator\n",
        "\n",
        "test_dir = '/content/drive/MyDrive/ColabNotebooks/data/famous_places/test'\n",
        "model = keras.models.load_model('/content/drive/MyDrive/ColabNotebooks/results/MobileNetV2_FamousPlaces/fine_tuned_model.h5')\n",
        "img_size = (224, 224)\n",
        "batch_size = 32\n",
        "\n",
        "test_datagen = ImageDataGenerator(rescale=1./255)\n",
        "\n",
        "test_generator = test_datagen.flow_from_directory(\n",
        "    test_dir,\n",
        "    target_size=img_size,\n",
        "    batch_size=batch_size,\n",
        "    class_mode='categorical',\n",
        "    shuffle=False\n",
        ")\n",
        "\n",
        "test_loss, test_accuracy = model.evaluate(test_generator)\n",
        "print(f\"Test accuracy: {test_accuracy * 100:.2f}%\")"
      ],
      "metadata": {
        "colab": {
          "base_uri": "https://localhost:8080/"
        },
        "id": "x8QUteBLlKxq",
        "outputId": "26aadc14-1ebb-4aa9-9711-e0f721dcab08"
      },
      "execution_count": null,
      "outputs": [
        {
          "output_type": "stream",
          "name": "stderr",
          "text": [
            "WARNING:absl:Compiled the loaded model, but the compiled metrics have yet to be built. `model.compile_metrics` will be empty until you train or evaluate the model.\n"
          ]
        },
        {
          "output_type": "stream",
          "name": "stdout",
          "text": [
            "Found 3050 images belonging to 50 classes.\n"
          ]
        },
        {
          "output_type": "stream",
          "name": "stderr",
          "text": [
            "/usr/local/lib/python3.11/dist-packages/keras/src/trainers/data_adapters/py_dataset_adapter.py:121: UserWarning: Your `PyDataset` class should call `super().__init__(**kwargs)` in its constructor. `**kwargs` can include `workers`, `use_multiprocessing`, `max_queue_size`. Do not pass these arguments to `fit()`, as they will be ignored.\n",
            "  self._warn_if_super_not_called()\n"
          ]
        },
        {
          "output_type": "stream",
          "name": "stdout",
          "text": [
            "\u001b[1m96/96\u001b[0m \u001b[32m━━━━━━━━━━━━━━━━━━━━\u001b[0m\u001b[37m\u001b[0m \u001b[1m820s\u001b[0m 8s/step - accuracy: 0.7877 - loss: 0.7618\n",
            "Test accuracy: 80.72%\n"
          ]
        }
      ]
    },
    {
      "cell_type": "code",
      "source": [
        "import matplotlib.pyplot as plt\n",
        "import seaborn as sns\n",
        "import numpy as np\n",
        "from sklearn.metrics import confusion_matrix, classification_report\n",
        "import os\n",
        "\n",
        "os.makedirs(\"report_assets\", exist_ok=True)\n",
        "class_labels = list(test_generator.class_indices.keys())\n",
        "true_classes = test_generator.classes\n",
        "pred_probs = model.predict(test_generator)\n",
        "pred_classes = np.argmax(pred_probs, axis=1)\n",
        "\n",
        "def plot_training_curves(history):\n",
        "    plt.figure(figsize=(12, 5))\n",
        "\n",
        "    plt.subplot(1, 2, 1)\n",
        "    plt.plot(history.history['accuracy'], label='Train Acc')\n",
        "    plt.plot(history.history['val_accuracy'], label='Val Acc')\n",
        "    plt.title('Accuracy')\n",
        "    plt.xlabel('Epoch')\n",
        "    plt.ylabel('Accuracy')\n",
        "    plt.legend()\n",
        "\n",
        "    plt.subplot(1, 2, 2)\n",
        "    plt.plot(history.history['loss'], label='Train Loss')\n",
        "    plt.plot(history.history['val_loss'], label='Val Loss')\n",
        "    plt.title('Loss')\n",
        "    plt.xlabel('Epoch')\n",
        "    plt.ylabel('Loss')\n",
        "    plt.legend()\n",
        "\n",
        "    plt.tight_layout()\n",
        "    plt.savefig(\"report_assets/training_curves.png\")\n",
        "    plt.close()\n",
        "\n",
        "plot_training_curves(model)\n",
        "\n",
        "cm = confusion_matrix(true_classes, pred_classes)\n",
        "\n",
        "plt.figure(figsize=(10, 8))\n",
        "sns.heatmap(cm, annot=True, fmt=\"d\", cmap=\"Blues\", xticklabels=class_labels, yticklabels=class_labels)\n",
        "plt.xlabel(\"Predicted\")\n",
        "plt.ylabel(\"True\")\n",
        "plt.title(\"Confusion Matrix\")\n",
        "plt.savefig(\"report_assets/confusion_matrix.png\")\n",
        "plt.close()\n",
        "\n",
        "report = classification_report(true_classes, pred_classes, target_names=class_labels)\n",
        "with open(\"report_assets/classification_report.txt\", \"w\") as f:\n",
        "    f.write(report)\n",
        "\n",
        "def save_sample_predictions():\n",
        "    test_generator.reset()\n",
        "    images, labels = next(test_generator)\n",
        "    preds = model.predict(images)\n",
        "    pred_classes_batch = np.argmax(preds, axis=1)\n",
        "    true_classes_batch = np.argmax(labels, axis=1)\n",
        "\n",
        "    plt.figure(figsize=(12, 12))\n",
        "    for i in range(9):\n",
        "        plt.subplot(3, 3, i + 1)\n",
        "        plt.imshow(images[i])\n",
        "        plt.axis('off')\n",
        "        true_label = class_labels[true_classes_batch[i]]\n",
        "        pred_label = class_labels[pred_classes_batch[i]]\n",
        "        color = \"green\" if true_label == pred_label else \"red\"\n",
        "        plt.title(f\"True: {true_label}\\nPred: {pred_label}\", color=color)\n",
        "    plt.tight_layout()\n",
        "    plt.savefig(\"report_assets/sample_predictions.png\")\n",
        "    plt.close()\n",
        "\n",
        "save_sample_predictions()\n"
      ],
      "metadata": {
        "id": "E9yhBG07pvbP"
      },
      "execution_count": null,
      "outputs": []
    },
    {
      "cell_type": "code",
      "source": [
        "from reportlab.lib.pagesizes import letter\n",
        "from reportlab.pdfgen import canvas\n",
        "from reportlab.platypus import Image\n",
        "from reportlab.lib.units import inch\n",
        "\n",
        "def generate_pdf_report():\n",
        "    c = canvas.Canvas(\"FamousPlaces_CNN_Report.pdf\", pagesize=letter)\n",
        "    width, height = letter\n",
        "\n",
        "    c.setFont(\"Helvetica-Bold\", 16)\n",
        "    c.drawString(72, height - 72, \"CNN Fine-Tuning Report: Famous Places Classification\")\n",
        "\n",
        "    c.setFont(\"Helvetica\", 12)\n",
        "    c.drawString(72, height - 100, \"Model: MobileNetV2 + Custom Classifier\")\n",
        "    c.drawString(72, height - 120, f\"Image Size: 224x224 | Batch Size: 32 | Epochs: {len(history.history['loss'])}\")\n",
        "\n",
        "    c.drawImage(\"report_assets/training_curves.png\", 72, height - 400, width=5.5*inch, preserveAspectRatio=True)\n",
        "    c.showPage()\n",
        "\n",
        "    c.drawString(72, height - 72, \"Confusion Matrix\")\n",
        "    c.drawImage(\"report_assets/confusion_matrix.png\", 72, height - 450, width=5.5*inch, preserveAspectRatio=True)\n",
        "    c.showPage()\n",
        "\n",
        "    c.drawString(72, height - 72, \"Sample Predictions\")\n",
        "    c.drawImage(\"report_assets/sample_predictions.png\", 72, height - 500, width=5.5*inch, preserveAspectRatio=True)\n",
        "    c.showPage()\n",
        "\n",
        "    c.drawString(72, height - 72, \"Classification Report\")\n",
        "    with open(\"report_assets/classification_report.txt\", \"r\") as f:\n",
        "        lines = f.readlines()\n",
        "\n",
        "    text_object = c.beginText(72, height - 100)\n",
        "    text_object.setFont(\"Helvetica\", 10)\n",
        "    for line in lines:\n",
        "        text_object.textLine(line.strip())\n",
        "    c.drawText(text_object)\n",
        "\n",
        "    c.save()\n",
        "\n",
        "generate_pdf_report()\n"
      ],
      "metadata": {
        "id": "3UvoCoOnp_i4"
      },
      "execution_count": null,
      "outputs": []
    }
  ]
}