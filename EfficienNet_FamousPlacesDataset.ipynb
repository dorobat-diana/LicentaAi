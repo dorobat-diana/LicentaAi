{
  "nbformat": 4,
  "nbformat_minor": 0,
  "metadata": {
    "colab": {
      "provenance": [],
      "gpuType": "T4",
      "authorship_tag": "ABX9TyO10Wzpt0Tr11zI1BAWFe6P",
      "include_colab_link": true
    },
    "kernelspec": {
      "name": "python3",
      "display_name": "Python 3"
    },
    "language_info": {
      "name": "python"
    },
    "accelerator": "GPU"
  },
  "cells": [
    {
      "cell_type": "markdown",
      "metadata": {
        "id": "view-in-github",
        "colab_type": "text"
      },
      "source": [
        "<a href=\"https://colab.research.google.com/github/dorobat-diana/LicentaAi/blob/main/EfficienNet_FamousPlacesDataset.ipynb\" target=\"_parent\"><img src=\"https://colab.research.google.com/assets/colab-badge.svg\" alt=\"Open In Colab\"/></a>"
      ]
    },
    {
      "cell_type": "markdown",
      "metadata": {
        "id": "pHuwX13giULU"
      },
      "source": [
        "Check for CUDA available."
      ]
    },
    {
      "cell_type": "code",
      "execution_count": null,
      "metadata": {
        "colab": {
          "base_uri": "https://localhost:8080/"
        },
        "id": "R7CwV91c1zcq",
        "outputId": "223f46be-730e-47d3-e2a4-beec1ff239da"
      },
      "outputs": [
        {
          "output_type": "stream",
          "name": "stdout",
          "text": [
            "GPU Available: True\n",
            "GPU Name: Tesla T4\n"
          ]
        }
      ],
      "source": [
        "import torch\n",
        "print(\"GPU Available:\", torch.cuda.is_available())\n",
        "print(\"GPU Name:\", torch.cuda.get_device_name(0) if torch.cuda.is_available() else \"No GPU\")\n"
      ]
    },
    {
      "cell_type": "markdown",
      "metadata": {
        "id": "_zNgEDwjijbe"
      },
      "source": [
        "Mount Google Drive."
      ]
    },
    {
      "cell_type": "code",
      "execution_count": null,
      "metadata": {
        "colab": {
          "base_uri": "https://localhost:8080/"
        },
        "id": "HRbZyI1Kilzo",
        "outputId": "afffddf2-2dab-4359-d674-444dca380898"
      },
      "outputs": [
        {
          "output_type": "stream",
          "name": "stdout",
          "text": [
            "Mounted at /content/drive\n"
          ]
        }
      ],
      "source": [
        "from google.colab import drive\n",
        "drive.mount('/content/drive')"
      ]
    },
    {
      "cell_type": "markdown",
      "source": [
        "1. Move all data into one consolidated all_data/ folder"
      ],
      "metadata": {
        "id": "jJHGfDLH1N0R"
      }
    },
    {
      "cell_type": "code",
      "source": [
        "import os\n",
        "import shutil\n",
        "\n",
        "def move_all_data(train_dir, test_dir, output_dir):\n",
        "    os.makedirs(output_dir, exist_ok=True)\n",
        "    classes = os.listdir(train_dir)\n",
        "\n",
        "    for cls in classes:\n",
        "        cls_output_dir = os.path.join(output_dir, cls)\n",
        "        os.makedirs(cls_output_dir, exist_ok=True)\n",
        "\n",
        "        for source_dir in [train_dir, test_dir]:\n",
        "            cls_dir = os.path.join(source_dir, cls)\n",
        "            if not os.path.exists(cls_dir):\n",
        "                continue\n",
        "\n",
        "            for fname in os.listdir(cls_dir):\n",
        "                src = os.path.join(cls_dir, fname)\n",
        "                dst = os.path.join(cls_output_dir, fname)\n",
        "                shutil.move(src, dst)\n",
        "\n",
        
        "train_dir = '/content/drive/MyDrive/ColabNotebooks/data/famous_places/train'\n",
        "test_dir = '/content/drive/MyDrive/ColabNotebooks/data/famous_places/test'\n",
        "all_data_dir = '/content/drive/MyDrive/ColabNotebooks/data/famous_places/all_data'\n",
        "\n",
        "move_all_data(train_dir, test_dir, all_data_dir)\n"
      ],
      "metadata": {
        "id": "2k-IvGa_1N-z"
      },
      "execution_count": null,
      "outputs": []
    },
    {
      "cell_type": "markdown",
      "source": [
        "2. Split the moved data into train/val/test"
      ],
      "metadata": {
        "id": "mHAQYF-U1RWe"
      }
    },
    {
      "cell_type": "code",
      "source": [
        "import os\n",
        "import shutil\n",
        "import random\n",
        "from pathlib import Path\n",
        "\n",
        "def split_dataset(base_dir, output_dir, train_split=0.7, val_split=0.15, seed=42):\n",
        "    random.seed(seed)\n",
        "    classes = os.listdir(base_dir)\n",
        "\n",
        "    for cls in classes:\n",
        "        images = os.listdir(os.path.join(base_dir, cls))\n",
        "        random.shuffle(images)\n",
        "\n",
        "        total = len(images)\n",
        "        train_end = int(total * train_split)\n",
        "        val_end = int(total * (train_split + val_split))\n",
        "\n",
        "        splits = {\n",
        "            'train': images[:train_end],\n",
        "            'val': images[train_end:val_end],\n",
        "            'test': images[val_end:]\n",
        "        }\n",
        "\n",
        "        for split, split_images in splits.items():\n",
        "            split_dir = os.path.join(output_dir, split, cls)\n",
        "            os.makedirs(split_dir, exist_ok=True)\n",
        "            for img in split_images:\n",
        "                src = os.path.join(base_dir, cls, img)\n",
        "                dst = os.path.join(split_dir, img)\n",
        "                shutil.copy(src, dst)\n",
        "\n",
        
        "original_dataset = '/content/drive/MyDrive/ColabNotebooks/data/famous_places/all_data'\n",
        "output_dataset = '/content/drive/MyDrive/ColabNotebooks/data/famous_places/split'\n",
        "split_dataset(original_dataset, output_dataset)\n",
        "\n",
        "\n",
        "original_dataset = all_data_dir\n",
        "output_dataset = '/content/drive/MyDrive/ColabNotebooks/data/famous_places/split'\n",
        "\n",
        "split_dataset(original_dataset, output_dataset)\n"
      ],
      "metadata": {
        "id": "b5QKQYEj1Ri7"
      },
      "execution_count": null,
      "outputs": []
    },
    {
      "cell_type": "markdown",
      "source": [
        " Fine-tune EfficientNetB0 on Famous Places Dataset"
      ],
      "metadata": {
        "id": "eHFX5qMAypTs"
      }
    },
    {
      "cell_type": "code",
      "source": [
        "import os\n",
        "import tensorflow as tf\n",
        "from tensorflow.keras import layers, models\n",
        "from tensorflow.keras.applications import EfficientNetB0\n",
        "from tensorflow.keras.preprocessing.image import ImageDataGenerator\n",
        "from tensorflow.keras.callbacks import EarlyStopping, ModelCheckpoint\n",
        "\n",
        
        "data_dir = '/content/drive/MyDrive/ColabNotebooks/data/famous_places/split'\n",
        "train_dir = os.path.join(data_dir, 'train')\n",
        "val_dir = os.path.join(data_dir, 'val')\n",
        "test_dir = os.path.join(data_dir, 'test')\n",
        "\n",
        
        "img_size = (224, 224)\n",
        "batch_size = 32\n",
        "\n",
        
        "train_datagen = ImageDataGenerator(\n",
        "    rescale=1./255,\n",
        "    rotation_range=40,\n",
        "    width_shift_range=0.2,\n",
        "    height_shift_range=0.2,\n",
        "    shear_range=0.2,\n",
        "    zoom_range=0.2,\n",
        "    horizontal_flip=True,\n",
        "    fill_mode='nearest'\n",
        ")\n",
        "\n",
        "val_test_datagen = ImageDataGenerator(rescale=1./255)\n",
        "\n",
        
        "train_generator = train_datagen.flow_from_directory(\n",
        "    train_dir,\n",
        "    target_size=img_size,\n",
        "    batch_size=batch_size,\n",
        "    class_mode='categorical',\n",
        "    shuffle=True\n",
        ")\n",
        "\n",
        "val_generator = val_test_datagen.flow_from_directory(\n",
        "    val_dir,\n",
        "    target_size=img_size,\n",
        "    batch_size=batch_size,\n",
        "    class_mode='categorical',\n",
        "    shuffle=False\n",
        ")\n",
        "\n",
        "test_generator = val_test_datagen.flow_from_directory(\n",
        "    test_dir,\n",
        "    target_size=img_size,\n",
        "    batch_size=batch_size,\n",
        "    class_mode='categorical',\n",
        "    shuffle=False\n",
        ")\n",
        "\n",
        
        "base_model = EfficientNetB0(weights='imagenet', include_top=False, input_shape=(224, 224, 3))\n",
        "base_model.trainable = False  \n",
        "\n",
        "model = models.Sequential([\n",
        "    base_model,\n",
        "    layers.GlobalAveragePooling2D(),\n",
        "    layers.Dense(1024, activation='relu'),\n",
        "    layers.Dropout(0.5),\n",
        "    layers.Dense(train_generator.num_classes, activation='softmax')\n",
        "])\n",
        "\n",

        "model.compile(\n",
        "    optimizer=tf.keras.optimizers.Adam(learning_rate=1e-4),\n",
        "    loss='categorical_crossentropy',\n",
        "    metrics=['accuracy']\n",
        ")\n",
        "\n",

        "checkpoint_dir = '/content/drive/MyDrive/ColabNotebooks/results/EfficientNet_FamousPlaces'\n",
        "os.makedirs(checkpoint_dir, exist_ok=True)\n",
        "\n",
        "checkpoint_path = os.path.join(checkpoint_dir, 'best_model.h5')\n",
        "early_stopping = EarlyStopping(monitor='val_loss', patience=5, restore_best_weights=True)\n",
        "checkpoint = ModelCheckpoint(checkpoint_path, monitor='val_loss', save_best_only=True)\n",
        "\n",

        "history = model.fit(\n",
        "    train_generator,\n",
        "    epochs=10,\n",
        "    validation_data=val_generator,\n",
        "    callbacks=[early_stopping, checkpoint],\n",
        "    verbose=2\n",
        ")\n",
        "\n",

        "test_loss, test_accuracy = model.evaluate(test_generator)\n",
        "print(f\" Initial test accuracy: {test_accuracy * 100:.2f}%\")\n",
        "\n",

        "N = 5  \n",
        "base_model.trainable = True\n",
        "for layer in base_model.layers[:-N]:\n",
        "    layer.trainable = False\n",
        "\n",
        "model.compile(\n",
        "    optimizer=tf.keras.optimizers.Adam(learning_rate=1e-5),\n",
        "    loss='categorical_crossentropy',\n",
        "    metrics=['accuracy']\n",
        ")\n",
        "\n",

        "fine_tune_checkpoint_path = os.path.join(checkpoint_dir, 'fine_tuned_model.h5')\n",
        "checkpoint_fine = ModelCheckpoint(fine_tune_checkpoint_path, monitor='val_loss', save_best_only=True)\n",
        "\n",

        "history_fine = model.fit(\n",
        "    train_generator,\n",
        "    epochs=10,\n",
        "    validation_data=val_generator,\n",
        "    callbacks=[early_stopping, checkpoint_fine],\n",
        "    verbose=2\n",
        ")\n",
        "\n",

        "test_loss, test_accuracy = model.evaluate(test_generator)\n",
        "print(f\"Final test accuracy (EfficientNetB0): {test_accuracy * 100:.2f}%\")\n"
      ],
      "metadata": {
        "colab": {
          "base_uri": "https://localhost:8080/"
        },
        "id": "PRnJ9IQ3ypih",
        "outputId": "c9c9acb6-a66c-49fb-e5c1-b91400691dcd"
      },
      "execution_count": null,
      "outputs": [
        {
          "output_type": "stream",
          "name": "stdout",
          "text": [
            "Found 4250 images belonging to 50 classes.\n",
            "Found 900 images belonging to 50 classes.\n",
            "Found 950 images belonging to 50 classes.\n",
            "Downloading data from https://storage.googleapis.com/keras-applications/efficientnetb0_notop.h5\n",
            "\u001b[1m16705208/16705208\u001b[0m \u001b[32m━━━━━━━━━━━━━━━━━━━━\u001b[0m\u001b[37m\u001b[0m \u001b[1m0s\u001b[0m 0us/step\n"
          ]
        },
        {
          "output_type": "stream",
          "name": "stderr",
          "text": [
            "/usr/local/lib/python3.11/dist-packages/keras/src/trainers/data_adapters/py_dataset_adapter.py:121: UserWarning: Your `PyDataset` class should call `super().__init__(**kwargs)` in its constructor. `**kwargs` can include `workers`, `use_multiprocessing`, `max_queue_size`. Do not pass these arguments to `fit()`, as they will be ignored.\n",
            "  self._warn_if_super_not_called()\n"
          ]
        },
        {
          "output_type": "stream",
          "name": "stdout",
          "text": [
            "Epoch 1/10\n"
          ]
        },
        {
          "output_type": "stream",
          "name": "stderr",
          "text": [
            "WARNING:absl:You are saving your model as an HDF5 file via `model.save()` or `keras.saving.save_model(model)`. This file format is considered legacy. We recommend using instead the native Keras format, e.g. `model.save('my_model.keras')` or `keras.saving.save_model(model, 'my_model.keras')`. \n"
          ]
        },
        {
          "output_type": "stream",
          "name": "stdout",
          "text": [
            "133/133 - 131s - 981ms/step - accuracy: 0.0165 - loss: 3.9471 - val_accuracy: 0.0200 - val_loss: 3.9165\n",
            "Epoch 2/10\n"
          ]
        },
        {
          "output_type": "stream",
          "name": "stderr",
          "text": [
            "WARNING:absl:You are saving your model as an HDF5 file via `model.save()` or `keras.saving.save_model(model)`. This file format is considered legacy. We recommend using instead the native Keras format, e.g. `model.save('my_model.keras')` or `keras.saving.save_model(model, 'my_model.keras')`. \n"
          ]
        },
        {
          "output_type": "stream",
          "name": "stdout",
          "text": [
            "133/133 - 81s - 613ms/step - accuracy: 0.0176 - loss: 3.9340 - val_accuracy: 0.0200 - val_loss: 3.9153\n",
            "Epoch 3/10\n"
          ]
        },
        {
          "output_type": "stream",
          "name": "stderr",
          "text": [
            "WARNING:absl:You are saving your model as an HDF5 file via `model.save()` or `keras.saving.save_model(model)`. This file format is considered legacy. We recommend using instead the native Keras format, e.g. `model.save('my_model.keras')` or `keras.saving.save_model(model, 'my_model.keras')`. \n"
          ]
        },
        {
          "output_type": "stream",
          "name": "stdout",
          "text": [
            "133/133 - 80s - 598ms/step - accuracy: 0.0209 - loss: 3.9289 - val_accuracy: 0.0200 - val_loss: 3.9145\n",
            "Epoch 4/10\n"
          ]
        },
        {
          "output_type": "stream",
          "name": "stderr",
          "text": [
            "WARNING:absl:You are saving your model as an HDF5 file via `model.save()` or `keras.saving.save_model(model)`. This file format is considered legacy. We recommend using instead the native Keras format, e.g. `model.save('my_model.keras')` or `keras.saving.save_model(model, 'my_model.keras')`. \n"
          ]
        },
        {
          "output_type": "stream",
          "name": "stdout",
          "text": [
            "133/133 - 79s - 595ms/step - accuracy: 0.0221 - loss: 3.9216 - val_accuracy: 0.0200 - val_loss: 3.9133\n",
            "Epoch 5/10\n"
          ]
        },
        {
          "output_type": "stream",
          "name": "stderr",
          "text": [
            "WARNING:absl:You are saving your model as an HDF5 file via `model.save()` or `keras.saving.save_model(model)`. This file format is considered legacy. We recommend using instead the native Keras format, e.g. `model.save('my_model.keras')` or `keras.saving.save_model(model, 'my_model.keras')`. \n"
          ]
        },
        {
          "output_type": "stream",
          "name": "stdout",
          "text": [
            "133/133 - 81s - 606ms/step - accuracy: 0.0174 - loss: 3.9209 - val_accuracy: 0.0200 - val_loss: 3.9127\n",
            "Epoch 6/10\n",
            "133/133 - 78s - 584ms/step - accuracy: 0.0184 - loss: 3.9161 - val_accuracy: 0.0189 - val_loss: 3.9128\n",
            "Epoch 7/10\n"
          ]
        },
        {
          "output_type": "stream",
          "name": "stderr",
          "text": [
            "WARNING:absl:You are saving your model as an HDF5 file via `model.save()` or `keras.saving.save_model(model)`. This file format is considered legacy. We recommend using instead the native Keras format, e.g. `model.save('my_model.keras')` or `keras.saving.save_model(model, 'my_model.keras')`. \n"
          ]
        },
        {
          "output_type": "stream",
          "name": "stdout",
          "text": [
            "133/133 - 85s - 636ms/step - accuracy: 0.0195 - loss: 3.9175 - val_accuracy: 0.0200 - val_loss: 3.9124\n",
            "Epoch 8/10\n",
            "133/133 - 137s - 1s/step - accuracy: 0.0207 - loss: 3.9138 - val_accuracy: 0.0200 - val_loss: 3.9125\n",
            "Epoch 9/10\n"
          ]
        },
        {
          "output_type": "stream",
          "name": "stderr",
          "text": [
            "WARNING:absl:You are saving your model as an HDF5 file via `model.save()` or `keras.saving.save_model(model)`. This file format is considered legacy. We recommend using instead the native Keras format, e.g. `model.save('my_model.keras')` or `keras.saving.save_model(model, 'my_model.keras')`. \n"
          ]
        },
        {
          "output_type": "stream",
          "name": "stdout",
          "text": [
            "133/133 - 82s - 613ms/step - accuracy: 0.0188 - loss: 3.9137 - val_accuracy: 0.0189 - val_loss: 3.9122\n",
            "Epoch 10/10\n"
          ]
        },
        {
          "output_type": "stream",
          "name": "stderr",
          "text": [
            "WARNING:absl:You are saving your model as an HDF5 file via `model.save()` or `keras.saving.save_model(model)`. This file format is considered legacy. We recommend using instead the native Keras format, e.g. `model.save('my_model.keras')` or `keras.saving.save_model(model, 'my_model.keras')`. \n"
          ]
        },
        {
          "output_type": "stream",
          "name": "stdout",
          "text": [
            "133/133 - 78s - 587ms/step - accuracy: 0.0184 - loss: 3.9130 - val_accuracy: 0.0200 - val_loss: 3.9121\n",
            "\u001b[1m30/30\u001b[0m \u001b[32m━━━━━━━━━━━━━━━━━━━━\u001b[0m\u001b[37m\u001b[0m \u001b[1m11s\u001b[0m 384ms/step - accuracy: 0.0120 - loss: 3.9147\n",
            "Initial test accuracy: 2.00%\n",
            "Epoch 1/10\n"
          ]
        },
        {
          "output_type": "stream",
          "name": "stderr",
          "text": [
            "WARNING:absl:You are saving your model as an HDF5 file via `model.save()` or `keras.saving.save_model(model)`. This file format is considered legacy. We recommend using instead the native Keras format, e.g. `model.save('my_model.keras')` or `keras.saving.save_model(model, 'my_model.keras')`. \n"
          ]
        },
        {
          "output_type": "stream",
          "name": "stdout",
          "text": [
            "133/133 - 118s - 889ms/step - accuracy: 0.0191 - loss: 3.9939 - val_accuracy: 0.0200 - val_loss: 3.9124\n",
            "Epoch 2/10\n"
          ]
        },
        {
          "output_type": "stream",
          "name": "stderr",
          "text": [
            "WARNING:absl:You are saving your model as an HDF5 file via `model.save()` or `keras.saving.save_model(model)`. This file format is considered legacy. We recommend using instead the native Keras format, e.g. `model.save('my_model.keras')` or `keras.saving.save_model(model, 'my_model.keras')`. \n"
          ]
        },
        {
          "output_type": "stream",
          "name": "stdout",
          "text": [
            "133/133 - 77s - 582ms/step - accuracy: 0.0209 - loss: 3.9709 - val_accuracy: 0.0200 - val_loss: 3.9122\n",
            "Epoch 3/10\n"
          ]
        },
        {
          "output_type": "stream",
          "name": "stderr",
          "text": [
            "WARNING:absl:You are saving your model as an HDF5 file via `model.save()` or `keras.saving.save_model(model)`. This file format is considered legacy. We recommend using instead the native Keras format, e.g. `model.save('my_model.keras')` or `keras.saving.save_model(model, 'my_model.keras')`. \n"
          ]
        },
        {
          "output_type": "stream",
          "name": "stdout",
          "text": [
            "133/133 - 78s - 589ms/step - accuracy: 0.0202 - loss: 3.9599 - val_accuracy: 0.0200 - val_loss: 3.9122\n",
            "Epoch 4/10\n"
          ]
        },
        {
          "output_type": "stream",
          "name": "stderr",
          "text": [
            "WARNING:absl:You are saving your model as an HDF5 file via `model.save()` or `keras.saving.save_model(model)`. This file format is considered legacy. We recommend using instead the native Keras format, e.g. `model.save('my_model.keras')` or `keras.saving.save_model(model, 'my_model.keras')`. \n"
          ]
        },
        {
          "output_type": "stream",
          "name": "stdout",
          "text": [
            "133/133 - 77s - 581ms/step - accuracy: 0.0207 - loss: 3.9545 - val_accuracy: 0.0300 - val_loss: 3.9117\n",
            "Epoch 5/10\n"
          ]
        },
        {
          "output_type": "stream",
          "name": "stderr",
          "text": [
            "WARNING:absl:You are saving your model as an HDF5 file via `model.save()` or `keras.saving.save_model(model)`. This file format is considered legacy. We recommend using instead the native Keras format, e.g. `model.save('my_model.keras')` or `keras.saving.save_model(model, 'my_model.keras')`. \n"
          ]
        },
        {
          "output_type": "stream",
          "name": "stdout",
          "text": [
            "133/133 - 77s - 580ms/step - accuracy: 0.0193 - loss: 3.9419 - val_accuracy: 0.0200 - val_loss: 3.9108\n",
            "Epoch 6/10\n"
          ]
        },
        {
          "output_type": "stream",
          "name": "stderr",
          "text": [
            "WARNING:absl:You are saving your model as an HDF5 file via `model.save()` or `keras.saving.save_model(model)`. This file format is considered legacy. We recommend using instead the native Keras format, e.g. `model.save('my_model.keras')` or `keras.saving.save_model(model, 'my_model.keras')`. \n"
          ]
        },
        {
          "output_type": "stream",
          "name": "stdout",
          "text": [
            "133/133 - 82s - 620ms/step - accuracy: 0.0221 - loss: 3.9476 - val_accuracy: 0.0200 - val_loss: 3.9105\n",
            "Epoch 7/10\n"
          ]
        },
        {
          "output_type": "stream",
          "name": "stderr",
          "text": [
            "WARNING:absl:You are saving your model as an HDF5 file via `model.save()` or `keras.saving.save_model(model)`. This file format is considered legacy. We recommend using instead the native Keras format, e.g. `model.save('my_model.keras')` or `keras.saving.save_model(model, 'my_model.keras')`. \n"
          ]
        },
        {
          "output_type": "stream",
          "name": "stdout",
          "text": [
            "133/133 - 83s - 622ms/step - accuracy: 0.0188 - loss: 3.9463 - val_accuracy: 0.0200 - val_loss: 3.9097\n",
            "Epoch 8/10\n"
          ]
        },
        {
          "output_type": "stream",
          "name": "stderr",
          "text": [
            "WARNING:absl:You are saving your model as an HDF5 file via `model.save()` or `keras.saving.save_model(model)`. This file format is considered legacy. We recommend using instead the native Keras format, e.g. `model.save('my_model.keras')` or `keras.saving.save_model(model, 'my_model.keras')`. \n"
          ]
        },
        {
          "output_type": "stream",
          "name": "stdout",
          "text": [
            "133/133 - 78s - 586ms/step - accuracy: 0.0172 - loss: 3.9366 - val_accuracy: 0.0211 - val_loss: 3.9095\n",
            "Epoch 9/10\n"
          ]
        },
        {
          "output_type": "stream",
          "name": "stderr",
          "text": [
            "WARNING:absl:You are saving your model as an HDF5 file via `model.save()` or `keras.saving.save_model(model)`. This file format is considered legacy. We recommend using instead the native Keras format, e.g. `model.save('my_model.keras')` or `keras.saving.save_model(model, 'my_model.keras')`. \n"
          ]
        },
        {
          "output_type": "stream",
          "name": "stdout",
          "text": [
            "133/133 - 81s - 610ms/step - accuracy: 0.0169 - loss: 3.9454 - val_accuracy: 0.0200 - val_loss: 3.9091\n",
            "Epoch 10/10\n"
          ]
        },
        {
          "output_type": "stream",
          "name": "stderr",
          "text": [
            "WARNING:absl:You are saving your model as an HDF5 file via `model.save()` or `keras.saving.save_model(model)`. This file format is considered legacy. We recommend using instead the native Keras format, e.g. `model.save('my_model.keras')` or `keras.saving.save_model(model, 'my_model.keras')`. \n"
          ]
        },
        {
          "output_type": "stream",
          "name": "stdout",
          "text": [
            "133/133 - 78s - 586ms/step - accuracy: 0.0191 - loss: 3.9374 - val_accuracy: 0.0167 - val_loss: 3.9088\n",
            "\u001b[1m30/30\u001b[0m \u001b[32m━━━━━━━━━━━━━━━━━━━━\u001b[0m\u001b[37m\u001b[0m \u001b[1m9s\u001b[0m 315ms/step - accuracy: 0.0182 - loss: 3.9225\n",
            "Final test accuracy (EfficientNetB0): 2.53%\n"
          ]
        }
      ]
    },
    {
      "cell_type": "code",
      "source": [
        "import os\n",
        "\n",
        "def count_images_per_class(base_dir):\n",
        "    classes = os.listdir(base_dir)\n",
        "\n",
        "    class_counts = {}\n",
        "\n",
        "    for cls in classes:\n",
        "        class_dir = os.path.join(base_dir, cls)\n",
        "        if os.path.isdir(class_dir): \n",
        "            image_files = os.listdir(class_dir)\n",
        "            class_counts[cls] = len(image_files) \n",
        "\n",
        "    return class_counts\n",
        "\n",
        "dataset_dir = '/content/drive/MyDrive/ColabNotebooks/data/famous_places/all_data'\n",
        "class_counts = count_images_per_class(dataset_dir)\n",
        "\n",

        "for cls, count in class_counts.items():\n",
        "    print(f\"Class: {cls}, Number of images: {count}\")\n"
      ],
      "metadata": {
        "colab": {
          "base_uri": "https://localhost:8080/"
        },
        "id": "Yf0BX5U2HUtz",
        "outputId": "5637341b-29cd-474f-ba25-3a0f0e036cde"
      },
      "execution_count": null,
      "outputs": [
        {
          "output_type": "stream",
          "name": "stdout",
          "text": [
            "Class: Osaka_Castle, Number of images: 122\n",
            "Class: The_Great_Sphinx, Number of images: 122\n",
            "Class: Dresden_Frauenkirche, Number of images: 122\n",
            "Class: Guggenheim_Museum, Number of images: 122\n",
            "Class: Helsinki_Cathedral, Number of images: 122\n",
            "Class: Chateau_Frontenac, Number of images: 122\n",
            "Class: Millau_Bridge, Number of images: 122\n",
            "Class: Brandenburg_Gate, Number of images: 122\n",
            "Class: Hagia_Sophia, Number of images: 122\n",
            "Class: Flatiron_Building, Number of images: 122\n",
            "Class: Milan_Cathedral, Number of images: 122\n",
            "Class: Mont_St_Michel, Number of images: 122\n",
            "Class: Berlin_Museum_Island, Number of images: 122\n",
            "Class: Neuschwanstein_Castle, Number of images: 122\n",
            "Class: Leaning_Tower_of_Pisa, Number of images: 122\n",
            "Class: Ephesus, Number of images: 122\n",
            "Class: Sagrada_Familia, Number of images: 122\n",
            "Class: Giants_Causeway, Number of images: 122\n",
            "Class: Eiffel_Tower, Number of images: 122\n",
            "Class: Blue_Mosque, Number of images: 122\n",
            "Class: White_House, Number of images: 122\n",
            "Class: Washington_Monument, Number of images: 122\n",
            "Class: Chichen_Itza_Mexico, Number of images: 122\n",
            "Class: Oxford_University, Number of images: 122\n",
            "Class: Musee_dOrsay, Number of images: 122\n",
            "Class: Arc_de_Triomphe, Number of images: 122\n",
            "Class: Sultan_Ahmed_Mosque, Number of images: 122\n",
            "Class: statue_of_liberty, Number of images: 122\n",
            "Class: Burj_Khalifa, Number of images: 122\n",
            "Class: Tower_Bridge, Number of images: 122\n",
            "Class: Sydney_Harbor_Bridge, Number of images: 122\n",
            "Class: Bodiam_Castle, Number of images: 122\n",
            "Class: Le_Centre_Pompidou, Number of images: 122\n",
            "Class: Atomium, Number of images: 122\n",
            "Class: Casa_Mila, Number of images: 122\n",
            "Class: Angkor_Wat, Number of images: 122\n",
            "Class: Space_Needle, Number of images: 122\n",
            "Class: Sydney_Opera_House, Number of images: 122\n",
            "Class: Gateway_Arch, Number of images: 122\n",
            "Class: Tian_Tan_Buddha, Number of images: 122\n",
            "Class: Golden_Gate_Bridge, Number of images: 122\n",
            "Class: Dancing_House, Number of images: 122\n",
            "Class: The_Pyramids_of_Giza, Number of images: 122\n",
            "Class: Machu_Picchu, Number of images: 122\n",
            "Class: Acropolis_of_Athens, Number of images: 122\n",
            "Class: Lincoln_Center, Number of images: 122\n",
            "Class: Christ_the_Redeemer, Number of images: 122\n",
            "Class: Musee_du_Louvre, Number of images: 122\n",
            "Class: Big_Ben, Number of images: 122\n",
            "Class: Kremlin, Number of images: 122\n"
          ]
        }
      ]
    },
    {
      "cell_type": "markdown",
      "source": [
        "Step 1: Resplit Data (50/50)"
      ],
      "metadata": {
        "id": "M2SkUcbmHfpN"
      }
    },
    {
      "cell_type": "code",
      "source": [
        "import os\n",
        "import shutil\n",
        "import random\n",
        "from pathlib import Path\n",
        "\n",
        "def split_dataset(base_dir, output_dir, train_split=0.5, seed=42):\n",
        "    random.seed(seed)\n",
        "    classes = os.listdir(base_dir)\n",
        "\n",

        "    os.makedirs(os.path.join(output_dir, 'train'), exist_ok=True)\n",
        "    os.makedirs(os.path.join(output_dir, 'test'), exist_ok=True)\n",
        "\n",
        "    for cls in classes:\n",
        "        images = os.listdir(os.path.join(base_dir, cls))\n",
        "        random.shuffle(images)\n",
        "\n",
        "        total = len(images)\n",
        "        train_end = int(total * train_split)\n",
        "\n",
        "        splits = {\n",
        "            'train': images[:train_end],\n",
        "            'test': images[train_end:]\n",
        "        }\n",
        "\n",

        "        for split, split_images in splits.items():\n",
        "            split_dir = os.path.join(output_dir, split, cls)\n",
        "            os.makedirs(split_dir, exist_ok=True)\n",
        "            for img in split_images:\n",
        "                src = os.path.join(base_dir, cls, img)\n",
        "                dst = os.path.join(split_dir, img)\n",
        "                shutil.copy(src, dst)\n",
        "\n",

        "original_dataset = '/content/drive/MyDrive/ColabNotebooks/data/famous_places/all_data'\n",
        "output_dataset = '/content/drive/MyDrive/ColabNotebooks/data/famous_places/split'\n",
        "split_dataset(original_dataset, output_dataset)\n"
      ],
      "metadata": {
        "id": "NP2PFG7MHf1L"
      },
      "execution_count": null,
      "outputs": []
    },
    {
      "cell_type": "markdown",
      "source": [
        "Step 2: Start EfficientNet Training (Fine-tuning a Few Layers)"
      ],
      "metadata": {
        "id": "6rmsQo8nIOFX"
      }
    },
    {
      "cell_type": "code",
      "source": [
        "import tensorflow as tf\n",
        "from tensorflow.keras import layers, models\n",
        "from tensorflow.keras.preprocessing.image import ImageDataGenerator\n",
        "from tensorflow.keras.callbacks import ReduceLROnPlateau, ModelCheckpoint\n",
        "\n",

        "train_dir = '/content/drive/MyDrive/ColabNotebooks/data/famous_places/split/train'\n",
        "test_dir = '/content/drive/MyDrive/ColabNotebooks/data/famous_places/split/test'\n",
        "image_size = (224, 224)\n",
        "batch_size = 32\n",
        "num_classes = 50 \n",
        "\n",

        "train_datagen = ImageDataGenerator(rescale=1./255, rotation_range=20, width_shift_range=0.2,\n",
        "                                   height_shift_range=0.2, shear_range=0.2, zoom_range=0.2,\n",
        "                                   horizontal_flip=True, fill_mode='nearest')\n",
        "test_datagen = ImageDataGenerator(rescale=1./255)\n",
        "\n",
        "train_generator = train_datagen.flow_from_directory(train_dir, target_size=image_size,\n",
        "                                                    batch_size=batch_size, class_mode='categorical')\n",
        "test_generator = test_datagen.flow_from_directory(test_dir, target_size=image_size,\n",
        "                                                  batch_size=batch_size, class_mode='categorical')\n",
        "\n",

        "base_model = tf.keras.applications.EfficientNetB0(weights='imagenet', include_top=False,\n",
        "                                                   input_shape=(224, 224, 3))\n",
        "\n",

        "base_model.trainable = False\n",
        "\n",

        "model = models.Sequential([\n",
        "    base_model,\n",
        "    layers.GlobalAveragePooling2D(),\n",
        "    layers.Dense(1024, activation='relu'),\n",
        "    layers.Dropout(0.2),\n",
        "    layers.Dense(num_classes, activation='softmax')\n",
        "])\n",
        "\n",

        "model.compile(optimizer=tf.keras.optimizers.Adam(learning_rate=0.0001),\n",
        "              loss='categorical_crossentropy', metrics=['accuracy'])\n",
        "\n",

        "lr_scheduler = ReduceLROnPlateau(\n",
        "    monitor='val_loss', \n",
        "    factor=0.1,  \n",
        "    patience=3, \n",
        "    min_lr=1e-6,  \n",
        "    verbose=1 \n",
        ")\n",
        "\n",
        "checkpoint_callback = ModelCheckpoint(\n",
        "    '/content/drive/MyDrive/ColabNotebooks/data/famous_places/efficientnet_best_model.h5', \n",
        "    monitor='val_loss', \n",
        "    save_best_only=True, \n",
        "    verbose=1,  \n",
        "    save_weights_only=False  \n",
        ")\n",
        "\n",

        "history = model.fit(\n",
        "    train_generator,\n",
        "    epochs=10,\n",
        "    validation_data=test_generator,\n",
        "    callbacks=[lr_scheduler, checkpoint_callback] \n",
        ")\n",
        "\n",

        "base_model.trainable = True\n",
        "fine_tune_at = 12\n",
        "\n",

        "for layer in base_model.layers[:fine_tune_at]:\n",
        "    layer.trainable = False\n",
        "\n",

        "model.compile(optimizer=tf.keras.optimizers.Adam(learning_rate=0.00001),\n",
        "              loss='categorical_crossentropy', metrics=['accuracy'])\n",
        "\n",

        "history_fine_tune = model.fit(\n",
        "    train_generator,\n",
        "    epochs=10,\n",
        "    validation_data=test_generator,\n",
        "    callbacks=[lr_scheduler, checkpoint_callback]  \n",
        ")\n",
        "\n",

        "model.save('/content/drive/MyDrive/ColabNotebooks/data/famous_places/efficientnet_model_fine_tuned.h5')\n",
        "\n",

        "test_loss, test_accuracy = model.evaluate(test_generator)\n",
        "\n",
        "print(f\"Test Loss: {test_loss}\")\n",
        "print(f\"Test Accuracy: {test_accuracy}\")\n"
      ],
      "metadata": {
        "colab": {
          "base_uri": "https://localhost:8080/"
        },
        "id": "ZHCGhkmsIOQG",
        "outputId": "8d5f1e32-8553-4274-8616-44364887cd57"
      },
      "execution_count": null,
      "outputs": [
        {
          "output_type": "stream",
          "name": "stdout",
          "text": [
            "Found 3050 images belonging to 50 classes.\n",
            "Found 3050 images belonging to 50 classes.\n",
            "Epoch 1/10\n",
            "\u001b[1m96/96\u001b[0m \u001b[32m━━━━━━━━━━━━━━━━━━━━\u001b[0m\u001b[37m\u001b[0m \u001b[1m0s\u001b[0m 632ms/step - accuracy: 0.0236 - loss: 3.9434\n",
            "Epoch 1: val_loss improved from inf to 3.91664, saving model to /content/drive/MyDrive/ColabNotebooks/data/famous_places/efficientnet_best_model.h5\n"
          ]
        },
        {
          "output_type": "stream",
          "name": "stderr",
          "text": [
            "WARNING:absl:You are saving your model as an HDF5 file via `model.save()` or `keras.saving.save_model(model)`. This file format is considered legacy. We recommend using instead the native Keras format, e.g. `model.save('my_model.keras')` or `keras.saving.save_model(model, 'my_model.keras')`. \n"
          ]
        },
        {
          "output_type": "stream",
          "name": "stdout",
          "text": [
            "\b\b\b\b\b\b\b\b\b\b\b\b\b\b\b\b\b\b\b\b\b\b\b\b\b\b\b\b\b\b\b\b\b\b\b\b\b\b\b\b\b\b\b\b\b\b\b\b\b\b\b\b\b\b\b\b\b\b\b\b\b\b\b\b\b\b\b\b\b\b\b\b\b\b\r\u001b[1m96/96\u001b[0m \u001b[32m━━━━━━━━━━━━━━━━━━━━\u001b[0m\u001b[37m\u001b[0m \u001b[1m127s\u001b[0m 1s/step - accuracy: 0.0235 - loss: 3.9434 - val_accuracy: 0.0200 - val_loss: 3.9166 - learning_rate: 1.0000e-04\n",
            "Epoch 2/10\n",
            "\u001b[1m96/96\u001b[0m \u001b[32m━━━━━━━━━━━━━━━━━━━━\u001b[0m\u001b[37m\u001b[0m \u001b[1m0s\u001b[0m 536ms/step - accuracy: 0.0187 - loss: 3.9304\n",
            "Epoch 2: val_loss did not improve from 3.91664\n",
            "\u001b[1m96/96\u001b[0m \u001b[32m━━━━━━━━━━━━━━━━━━━━\u001b[0m\u001b[37m\u001b[0m \u001b[1m70s\u001b[0m 728ms/step - accuracy: 0.0187 - loss: 3.9305 - val_accuracy: 0.0197 - val_loss: 3.9171 - learning_rate: 1.0000e-04\n",
            "Epoch 3/10\n",
            "\u001b[1m96/96\u001b[0m \u001b[32m━━━━━━━━━━━━━━━━━━━━\u001b[0m\u001b[37m\u001b[0m \u001b[1m0s\u001b[0m 541ms/step - accuracy: 0.0197 - loss: 3.9278\n",
            "Epoch 3: val_loss improved from 3.91664 to 3.91536, saving model to /content/drive/MyDrive/ColabNotebooks/data/famous_places/efficientnet_best_model.h5\n"
          ]
        },
        {
          "output_type": "stream",
          "name": "stderr",
          "text": [
            "WARNING:absl:You are saving your model as an HDF5 file via `model.save()` or `keras.saving.save_model(model)`. This file format is considered legacy. We recommend using instead the native Keras format, e.g. `model.save('my_model.keras')` or `keras.saving.save_model(model, 'my_model.keras')`. \n"
          ]
        },
        {
          "output_type": "stream",
          "name": "stdout",
          "text": [
            "\b\b\b\b\b\b\b\b\b\b\b\b\b\b\b\b\b\b\b\b\b\b\b\b\b\b\b\b\b\b\b\b\b\b\b\b\b\b\b\b\b\b\b\b\b\b\b\b\b\b\b\b\b\b\b\b\b\b\b\b\b\b\b\b\b\b\b\b\b\b\b\b\b\b\r\u001b[1m96/96\u001b[0m \u001b[32m━━━━━━━━━━━━━━━━━━━━\u001b[0m\u001b[37m\u001b[0m \u001b[1m72s\u001b[0m 753ms/step - accuracy: 0.0196 - loss: 3.9279 - val_accuracy: 0.0200 - val_loss: 3.9154 - learning_rate: 1.0000e-04\n",
            "Epoch 4/10\n",
            "\u001b[1m96/96\u001b[0m \u001b[32m━━━━━━━━━━━━━━━━━━━━\u001b[0m\u001b[37m\u001b[0m \u001b[1m0s\u001b[0m 539ms/step - accuracy: 0.0223 - loss: 3.9208\n",
            "Epoch 4: val_loss improved from 3.91536 to 3.91468, saving model to /content/drive/MyDrive/ColabNotebooks/data/famous_places/efficientnet_best_model.h5\n"
          ]
        },
        {
          "output_type": "stream",
          "name": "stderr",
          "text": [
            "WARNING:absl:You are saving your model as an HDF5 file via `model.save()` or `keras.saving.save_model(model)`. This file format is considered legacy. We recommend using instead the native Keras format, e.g. `model.save('my_model.keras')` or `keras.saving.save_model(model, 'my_model.keras')`. \n"
          ]
        },
        {
          "output_type": "stream",
          "name": "stdout",
          "text": [
            "\b\b\b\b\b\b\b\b\b\b\b\b\b\b\b\b\b\b\b\b\b\b\b\b\b\b\b\b\b\b\b\b\b\b\b\b\b\b\b\b\b\b\b\b\b\b\b\b\b\b\b\b\b\b\b\b\b\b\b\b\b\b\b\b\b\b\b\b\b\b\b\b\b\b\r\u001b[1m96/96\u001b[0m \u001b[32m━━━━━━━━━━━━━━━━━━━━\u001b[0m\u001b[37m\u001b[0m \u001b[1m83s\u001b[0m 764ms/step - accuracy: 0.0222 - loss: 3.9208 - val_accuracy: 0.0213 - val_loss: 3.9147 - learning_rate: 1.0000e-04\n",
            "Epoch 5/10\n",
            "\u001b[1m96/96\u001b[0m \u001b[32m━━━━━━━━━━━━━━━━━━━━\u001b[0m\u001b[37m\u001b[0m \u001b[1m0s\u001b[0m 543ms/step - accuracy: 0.0206 - loss: 3.9207\n",
            "Epoch 5: val_loss improved from 3.91468 to 3.91339, saving model to /content/drive/MyDrive/ColabNotebooks/data/famous_places/efficientnet_best_model.h5\n"
          ]
        },
        {
          "output_type": "stream",
          "name": "stderr",
          "text": [
            "WARNING:absl:You are saving your model as an HDF5 file via `model.save()` or `keras.saving.save_model(model)`. This file format is considered legacy. We recommend using instead the native Keras format, e.g. `model.save('my_model.keras')` or `keras.saving.save_model(model, 'my_model.keras')`. \n"
          ]
        },
        {
          "output_type": "stream",
          "name": "stdout",
          "text": [
            "\b\b\b\b\b\b\b\b\b\b\b\b\b\b\b\b\b\b\b\b\b\b\b\b\b\b\b\b\b\b\b\b\b\b\b\b\b\b\b\b\b\b\b\b\b\b\b\b\b\b\b\b\b\b\b\b\b\b\b\b\b\b\b\b\b\b\b\b\b\b\b\b\b\b\r\u001b[1m96/96\u001b[0m \u001b[32m━━━━━━━━━━━━━━━━━━━━\u001b[0m\u001b[37m\u001b[0m \u001b[1m72s\u001b[0m 752ms/step - accuracy: 0.0206 - loss: 3.9207 - val_accuracy: 0.0200 - val_loss: 3.9134 - learning_rate: 1.0000e-04\n",
            "Epoch 6/10\n",
            "\u001b[1m96/96\u001b[0m \u001b[32m━━━━━━━━━━━━━━━━━━━━\u001b[0m\u001b[37m\u001b[0m \u001b[1m0s\u001b[0m 533ms/step - accuracy: 0.0185 - loss: 3.9219\n",
            "Epoch 6: val_loss improved from 3.91339 to 3.91325, saving model to /content/drive/MyDrive/ColabNotebooks/data/famous_places/efficientnet_best_model.h5\n"
          ]
        },
        {
          "output_type": "stream",
          "name": "stderr",
          "text": [
            "WARNING:absl:You are saving your model as an HDF5 file via `model.save()` or `keras.saving.save_model(model)`. This file format is considered legacy. We recommend using instead the native Keras format, e.g. `model.save('my_model.keras')` or `keras.saving.save_model(model, 'my_model.keras')`. \n"
          ]
        },
        {
          "output_type": "stream",
          "name": "stdout",
          "text": [
            "\b\b\b\b\b\b\b\b\b\b\b\b\b\b\b\b\b\b\b\b\b\b\b\b\b\b\b\b\b\b\b\b\b\b\b\b\b\b\b\b\b\b\b\b\b\b\b\b\b\b\b\b\b\b\b\b\b\b\b\b\b\b\b\b\b\b\b\b\b\b\b\b\b\b\r\u001b[1m96/96\u001b[0m \u001b[32m━━━━━━━━━━━━━━━━━━━━\u001b[0m\u001b[37m\u001b[0m \u001b[1m82s\u001b[0m 758ms/step - accuracy: 0.0185 - loss: 3.9219 - val_accuracy: 0.0200 - val_loss: 3.9132 - learning_rate: 1.0000e-04\n",
            "Epoch 7/10\n",
            "\u001b[1m96/96\u001b[0m \u001b[32m━━━━━━━━━━━━━━━━━━━━\u001b[0m\u001b[37m\u001b[0m \u001b[1m0s\u001b[0m 529ms/step - accuracy: 0.0248 - loss: 3.9163\n",
            "Epoch 7: val_loss improved from 3.91325 to 3.91231, saving model to /content/drive/MyDrive/ColabNotebooks/data/famous_places/efficientnet_best_model.h5\n"
          ]
        },
        {
          "output_type": "stream",
          "name": "stderr",
          "text": [
            "WARNING:absl:You are saving your model as an HDF5 file via `model.save()` or `keras.saving.save_model(model)`. This file format is considered legacy. We recommend using instead the native Keras format, e.g. `model.save('my_model.keras')` or `keras.saving.save_model(model, 'my_model.keras')`. \n"
          ]
        },
        {
          "output_type": "stream",
          "name": "stdout",
          "text": [
            "\b\b\b\b\b\b\b\b\b\b\b\b\b\b\b\b\b\b\b\b\b\b\b\b\b\b\b\b\b\b\b\b\b\b\b\b\b\b\b\b\b\b\b\b\b\b\b\b\b\b\b\b\b\b\b\b\b\b\b\b\b\b\b\b\b\b\b\b\b\b\b\b\b\b\r\u001b[1m96/96\u001b[0m \u001b[32m━━━━━━━━━━━━━━━━━━━━\u001b[0m\u001b[37m\u001b[0m \u001b[1m81s\u001b[0m 740ms/step - accuracy: 0.0247 - loss: 3.9163 - val_accuracy: 0.0200 - val_loss: 3.9123 - learning_rate: 1.0000e-04\n",
            "Epoch 8/10\n",
            "\u001b[1m96/96\u001b[0m \u001b[32m━━━━━━━━━━━━━━━━━━━━\u001b[0m\u001b[37m\u001b[0m \u001b[1m0s\u001b[0m 548ms/step - accuracy: 0.0144 - loss: 3.9174\n",
            "Epoch 8: val_loss improved from 3.91231 to 3.91216, saving model to /content/drive/MyDrive/ColabNotebooks/data/famous_places/efficientnet_best_model.h5\n"
          ]
        },
        {
          "output_type": "stream",
          "name": "stderr",
          "text": [
            "WARNING:absl:You are saving your model as an HDF5 file via `model.save()` or `keras.saving.save_model(model)`. This file format is considered legacy. We recommend using instead the native Keras format, e.g. `model.save('my_model.keras')` or `keras.saving.save_model(model, 'my_model.keras')`. \n"
          ]
        },
        {
          "output_type": "stream",
          "name": "stdout",
          "text": [
            "\b\b\b\b\b\b\b\b\b\b\b\b\b\b\b\b\b\b\b\b\b\b\b\b\b\b\b\b\b\b\b\b\b\b\b\b\b\b\b\b\b\b\b\b\b\b\b\b\b\b\b\b\b\b\b\b\b\b\b\b\b\b\b\b\b\b\b\b\b\b\b\b\b\b\r\u001b[1m96/96\u001b[0m \u001b[32m━━━━━━━━━━━━━━━━━━━━\u001b[0m\u001b[37m\u001b[0m \u001b[1m82s\u001b[0m 749ms/step - accuracy: 0.0144 - loss: 3.9175 - val_accuracy: 0.0200 - val_loss: 3.9122 - learning_rate: 1.0000e-04\n",
            "Epoch 9/10\n",
            "\u001b[1m96/96\u001b[0m \u001b[32m━━━━━━━━━━━━━━━━━━━━\u001b[0m\u001b[37m\u001b[0m \u001b[1m0s\u001b[0m 538ms/step - accuracy: 0.0209 - loss: 3.9173\n",
            "Epoch 9: val_loss improved from 3.91216 to 3.91209, saving model to /content/drive/MyDrive/ColabNotebooks/data/famous_places/efficientnet_best_model.h5\n"
          ]
        },
        {
          "output_type": "stream",
          "name": "stderr",
          "text": [
            "WARNING:absl:You are saving your model as an HDF5 file via `model.save()` or `keras.saving.save_model(model)`. This file format is considered legacy. We recommend using instead the native Keras format, e.g. `model.save('my_model.keras')` or `keras.saving.save_model(model, 'my_model.keras')`. \n"
          ]
        },
        {
          "output_type": "stream",
          "name": "stdout",
          "text": [
            "\b\b\b\b\b\b\b\b\b\b\b\b\b\b\b\b\b\b\b\b\b\b\b\b\b\b\b\b\b\b\b\b\b\b\b\b\b\b\b\b\b\b\b\b\b\b\b\b\b\b\b\b\b\b\b\b\b\b\b\b\b\b\b\b\b\b\b\b\b\b\b\b\b\b\r\u001b[1m96/96\u001b[0m \u001b[32m━━━━━━━━━━━━━━━━━━━━\u001b[0m\u001b[37m\u001b[0m \u001b[1m73s\u001b[0m 765ms/step - accuracy: 0.0208 - loss: 3.9173 - val_accuracy: 0.0200 - val_loss: 3.9121 - learning_rate: 1.0000e-04\n",
            "Epoch 10/10\n",
            "\u001b[1m96/96\u001b[0m \u001b[32m━━━━━━━━━━━━━━━━━━━━\u001b[0m\u001b[37m\u001b[0m \u001b[1m0s\u001b[0m 538ms/step - accuracy: 0.0151 - loss: 3.9167\n",
            "Epoch 10: val_loss improved from 3.91209 to 3.91206, saving model to /content/drive/MyDrive/ColabNotebooks/data/famous_places/efficientnet_best_model.h5\n"
          ]
        },
        {
          "output_type": "stream",
          "name": "stderr",
          "text": [
            "WARNING:absl:You are saving your model as an HDF5 file via `model.save()` or `keras.saving.save_model(model)`. This file format is considered legacy. We recommend using instead the native Keras format, e.g. `model.save('my_model.keras')` or `keras.saving.save_model(model, 'my_model.keras')`. \n"
          ]
        },
        {
          "output_type": "stream",
          "name": "stdout",
          "text": [
            "\b\b\b\b\b\b\b\b\b\b\b\b\b\b\b\b\b\b\b\b\b\b\b\b\b\b\b\b\b\b\b\b\b\b\b\b\b\b\b\b\b\b\b\b\b\b\b\b\b\b\b\b\b\b\b\b\b\b\b\b\b\b\b\b\b\b\b\b\b\b\b\b\b\b\r\u001b[1m96/96\u001b[0m \u001b[32m━━━━━━━━━━━━━━━━━━━━\u001b[0m\u001b[37m\u001b[0m \u001b[1m71s\u001b[0m 740ms/step - accuracy: 0.0151 - loss: 3.9167 - val_accuracy: 0.0200 - val_loss: 3.9121 - learning_rate: 1.0000e-04\n",
            "Epoch 1/10\n",
            "\u001b[1m96/96\u001b[0m \u001b[32m━━━━━━━━━━━━━━━━━━━━\u001b[0m\u001b[37m\u001b[0m \u001b[1m0s\u001b[0m 895ms/step - accuracy: 0.0172 - loss: 3.9803\n",
            "Epoch 1: val_loss did not improve from 3.91206\n",
            "\u001b[1m96/96\u001b[0m \u001b[32m━━━━━━━━━━━━━━━━━━━━\u001b[0m\u001b[37m\u001b[0m \u001b[1m189s\u001b[0m 1s/step - accuracy: 0.0172 - loss: 3.9800 - val_accuracy: 0.0180 - val_loss: 3.9195 - learning_rate: 1.0000e-05\n",
            "Epoch 2/10\n",
            "\u001b[1m96/96\u001b[0m \u001b[32m━━━━━━━━━━━━━━━━━━━━\u001b[0m\u001b[37m\u001b[0m \u001b[1m0s\u001b[0m 552ms/step - accuracy: 0.0470 - loss: 3.8667\n",
            "Epoch 2: val_loss did not improve from 3.91206\n",
            "\u001b[1m96/96\u001b[0m \u001b[32m━━━━━━━━━━━━━━━━━━━━\u001b[0m\u001b[37m\u001b[0m \u001b[1m71s\u001b[0m 741ms/step - accuracy: 0.0470 - loss: 3.8666 - val_accuracy: 0.0230 - val_loss: 3.9136 - learning_rate: 1.0000e-05\n",
            "Epoch 3/10\n",
            "\u001b[1m96/96\u001b[0m \u001b[32m━━━━━━━━━━━━━━━━━━━━\u001b[0m\u001b[37m\u001b[0m \u001b[1m0s\u001b[0m 553ms/step - accuracy: 0.0634 - loss: 3.8034\n",
            "Epoch 3: val_loss improved from 3.91206 to 3.90191, saving model to /content/drive/MyDrive/ColabNotebooks/data/famous_places/efficientnet_best_model.h5\n"
          ]
        },
        {
          "output_type": "stream",
          "name": "stderr",
          "text": [
            "WARNING:absl:You are saving your model as an HDF5 file via `model.save()` or `keras.saving.save_model(model)`. This file format is considered legacy. We recommend using instead the native Keras format, e.g. `model.save('my_model.keras')` or `keras.saving.save_model(model, 'my_model.keras')`. \n"
          ]
        },
        {
          "output_type": "stream",
          "name": "stdout",
          "text": [
            "\b\b\b\b\b\b\b\b\b\b\b\b\b\b\b\b\b\b\b\b\b\b\b\b\b\b\b\b\b\b\b\b\b\b\b\b\b\b\b\b\b\b\b\b\b\b\b\b\b\b\b\b\b\b\b\b\b\b\b\b\b\b\b\b\b\b\b\b\b\b\b\b\b\b\r\u001b[1m96/96\u001b[0m \u001b[32m━━━━━━━━━━━━━━━━━━━━\u001b[0m\u001b[37m\u001b[0m \u001b[1m74s\u001b[0m 769ms/step - accuracy: 0.0635 - loss: 3.8031 - val_accuracy: 0.0279 - val_loss: 3.9019 - learning_rate: 1.0000e-05\n",
            "Epoch 4/10\n",
            "\u001b[1m96/96\u001b[0m \u001b[32m━━━━━━━━━━━━━━━━━━━━\u001b[0m\u001b[37m\u001b[0m \u001b[1m0s\u001b[0m 567ms/step - accuracy: 0.0993 - loss: 3.7242\n",
            "Epoch 4: val_loss improved from 3.90191 to 3.77671, saving model to /content/drive/MyDrive/ColabNotebooks/data/famous_places/efficientnet_best_model.h5\n"
          ]
        },
        {
          "output_type": "stream",
          "name": "stderr",
          "text": [
            "WARNING:absl:You are saving your model as an HDF5 file via `model.save()` or `keras.saving.save_model(model)`. This file format is considered legacy. We recommend using instead the native Keras format, e.g. `model.save('my_model.keras')` or `keras.saving.save_model(model, 'my_model.keras')`. \n"
          ]
        },
        {
          "output_type": "stream",
          "name": "stdout",
          "text": [
            "\b\b\b\b\b\b\b\b\b\b\b\b\b\b\b\b\b\b\b\b\b\b\b\b\b\b\b\b\b\b\b\b\b\b\b\b\b\b\b\b\b\b\b\b\b\b\b\b\b\b\b\b\b\b\b\b\b\b\b\b\b\b\b\b\b\b\b\b\b\b\b\b\b\b\r\u001b[1m96/96\u001b[0m \u001b[32m━━━━━━━━━━━━━━━━━━━━\u001b[0m\u001b[37m\u001b[0m \u001b[1m85s\u001b[0m 800ms/step - accuracy: 0.0995 - loss: 3.7240 - val_accuracy: 0.0836 - val_loss: 3.7767 - learning_rate: 1.0000e-05\n",
            "Epoch 5/10\n",
            "\u001b[1m96/96\u001b[0m \u001b[32m━━━━━━━━━━━━━━━━━━━━\u001b[0m\u001b[37m\u001b[0m \u001b[1m0s\u001b[0m 560ms/step - accuracy: 0.1522 - loss: 3.6104\n",
            "Epoch 5: val_loss improved from 3.77671 to 3.59337, saving model to /content/drive/MyDrive/ColabNotebooks/data/famous_places/efficientnet_best_model.h5\n"
          ]
        },
        {
          "output_type": "stream",
          "name": "stderr",
          "text": [
            "WARNING:absl:You are saving your model as an HDF5 file via `model.save()` or `keras.saving.save_model(model)`. This file format is considered legacy. We recommend using instead the native Keras format, e.g. `model.save('my_model.keras')` or `keras.saving.save_model(model, 'my_model.keras')`. \n"
          ]
        },
        {
          "output_type": "stream",
          "name": "stdout",
          "text": [
            "\b\b\b\b\b\b\b\b\b\b\b\b\b\b\b\b\b\b\b\b\b\b\b\b\b\b\b\b\b\b\b\b\b\b\b\b\b\b\b\b\b\b\b\b\b\b\b\b\b\b\b\b\b\b\b\b\b\b\b\b\b\b\b\b\b\b\b\b\b\b\b\b\b\b\r\u001b[1m96/96\u001b[0m \u001b[32m━━━━━━━━━━━━━━━━━━━━\u001b[0m\u001b[37m\u001b[0m \u001b[1m79s\u001b[0m 774ms/step - accuracy: 0.1523 - loss: 3.6101 - val_accuracy: 0.1764 - val_loss: 3.5934 - learning_rate: 1.0000e-05\n",
            "Epoch 6/10\n",
            "\u001b[1m96/96\u001b[0m \u001b[32m━━━━━━━━━━━━━━━━━━━━\u001b[0m\u001b[37m\u001b[0m \u001b[1m0s\u001b[0m 551ms/step - accuracy: 0.2322 - loss: 3.4867\n",
            "Epoch 6: val_loss improved from 3.59337 to 3.37094, saving model to /content/drive/MyDrive/ColabNotebooks/data/famous_places/efficientnet_best_model.h5\n"
          ]
        },
        {
          "output_type": "stream",
          "name": "stderr",
          "text": [
            "WARNING:absl:You are saving your model as an HDF5 file via `model.save()` or `keras.saving.save_model(model)`. This file format is considered legacy. We recommend using instead the native Keras format, e.g. `model.save('my_model.keras')` or `keras.saving.save_model(model, 'my_model.keras')`. \n"
          ]
        },
        {
          "output_type": "stream",
          "name": "stdout",
          "text": [
            "\b\b\b\b\b\b\b\b\b\b\b\b\b\b\b\b\b\b\b\b\b\b\b\b\b\b\b\b\b\b\b\b\b\b\b\b\b\b\b\b\b\b\b\b\b\b\b\b\b\b\b\b\b\b\b\b\b\b\b\b\b\b\b\b\b\b\b\b\b\b\b\b\b\b\r\u001b[1m96/96\u001b[0m \u001b[32m━━━━━━━━━━━━━━━━━━━━\u001b[0m\u001b[37m\u001b[0m \u001b[1m83s\u001b[0m 784ms/step - accuracy: 0.2323 - loss: 3.4863 - val_accuracy: 0.3200 - val_loss: 3.3709 - learning_rate: 1.0000e-05\n",
            "Epoch 7/10\n",
            "\u001b[1m96/96\u001b[0m \u001b[32m━━━━━━━━━━━━━━━━━━━━\u001b[0m\u001b[37m\u001b[0m \u001b[1m0s\u001b[0m 558ms/step - accuracy: 0.2891 - loss: 3.3426\n",
            "Epoch 7: val_loss improved from 3.37094 to 3.17634, saving model to /content/drive/MyDrive/ColabNotebooks/data/famous_places/efficientnet_best_model.h5\n"
          ]
        },
        {
          "output_type": "stream",
          "name": "stderr",
          "text": [
            "WARNING:absl:You are saving your model as an HDF5 file via `model.save()` or `keras.saving.save_model(model)`. This file format is considered legacy. We recommend using instead the native Keras format, e.g. `model.save('my_model.keras')` or `keras.saving.save_model(model, 'my_model.keras')`. \n"
          ]
        },
        {
          "output_type": "stream",
          "name": "stdout",
          "text": [
            "\b\b\b\b\b\b\b\b\b\b\b\b\b\b\b\b\b\b\b\b\b\b\b\b\b\b\b\b\b\b\b\b\b\b\b\b\b\b\b\b\b\b\b\b\b\b\b\b\b\b\b\b\b\b\b\b\b\b\b\b\b\b\b\b\b\b\b\b\b\b\b\b\b\b\r\u001b[1m96/96\u001b[0m \u001b[32m━━━━━━━━━━━━━━━━━━━━\u001b[0m\u001b[37m\u001b[0m \u001b[1m78s\u001b[0m 807ms/step - accuracy: 0.2892 - loss: 3.3421 - val_accuracy: 0.4089 - val_loss: 3.1763 - learning_rate: 1.0000e-05\n",
            "Epoch 8/10\n",
            "\u001b[1m96/96\u001b[0m \u001b[32m━━━━━━━━━━━━━━━━━━━━\u001b[0m\u001b[37m\u001b[0m \u001b[1m0s\u001b[0m 564ms/step - accuracy: 0.3427 - loss: 3.1562\n",
            "Epoch 8: val_loss improved from 3.17634 to 2.97072, saving model to /content/drive/MyDrive/ColabNotebooks/data/famous_places/efficientnet_best_model.h5\n"
          ]
        },
        {
          "output_type": "stream",
          "name": "stderr",
          "text": [
            "WARNING:absl:You are saving your model as an HDF5 file via `model.save()` or `keras.saving.save_model(model)`. This file format is considered legacy. We recommend using instead the native Keras format, e.g. `model.save('my_model.keras')` or `keras.saving.save_model(model, 'my_model.keras')`. \n"
          ]
        },
        {
          "output_type": "stream",
          "name": "stdout",
          "text": [
            "\b\b\b\b\b\b\b\b\b\b\b\b\b\b\b\b\b\b\b\b\b\b\b\b\b\b\b\b\b\b\b\b\b\b\b\b\b\b\b\b\b\b\b\b\b\b\b\b\b\b\b\b\b\b\b\b\b\b\b\b\b\b\b\b\b\b\b\b\b\b\b\b\b\b\r\u001b[1m96/96\u001b[0m \u001b[32m━━━━━━━━━━━━━━━━━━━━\u001b[0m\u001b[37m\u001b[0m \u001b[1m81s\u001b[0m 804ms/step - accuracy: 0.3430 - loss: 3.1557 - val_accuracy: 0.4800 - val_loss: 2.9707 - learning_rate: 1.0000e-05\n",
            "Epoch 9/10\n",
            "\u001b[1m96/96\u001b[0m \u001b[32m━━━━━━━━━━━━━━━━━━━━\u001b[0m\u001b[37m\u001b[0m \u001b[1m0s\u001b[0m 556ms/step - accuracy: 0.4208 - loss: 2.9506\n",
            "Epoch 9: val_loss improved from 2.97072 to 2.74848, saving model to /content/drive/MyDrive/ColabNotebooks/data/famous_places/efficientnet_best_model.h5\n"
          ]
        },
        {
          "output_type": "stream",
          "name": "stderr",
          "text": [
            "WARNING:absl:You are saving your model as an HDF5 file via `model.save()` or `keras.saving.save_model(model)`. This file format is considered legacy. We recommend using instead the native Keras format, e.g. `model.save('my_model.keras')` or `keras.saving.save_model(model, 'my_model.keras')`. \n"
          ]
        },
        {
          "output_type": "stream",
          "name": "stdout",
          "text": [
            "\b\b\b\b\b\b\b\b\b\b\b\b\b\b\b\b\b\b\b\b\b\b\b\b\b\b\b\b\b\b\b\b\b\b\b\b\b\b\b\b\b\b\b\b\b\b\b\b\b\b\b\b\b\b\b\b\b\b\b\b\b\b\b\b\b\b\b\b\b\b\b\b\b\b\r\u001b[1m96/96\u001b[0m \u001b[32m━━━━━━━━━━━━━━━━━━━━\u001b[0m\u001b[37m\u001b[0m \u001b[1m79s\u001b[0m 768ms/step - accuracy: 0.4209 - loss: 2.9502 - val_accuracy: 0.5331 - val_loss: 2.7485 - learning_rate: 1.0000e-05\n",
            "Epoch 10/10\n",
            "\u001b[1m96/96\u001b[0m \u001b[32m━━━━━━━━━━━━━━━━━━━━\u001b[0m\u001b[37m\u001b[0m \u001b[1m0s\u001b[0m 557ms/step - accuracy: 0.4588 - loss: 2.7641\n",
            "Epoch 10: val_loss improved from 2.74848 to 2.53331, saving model to /content/drive/MyDrive/ColabNotebooks/data/famous_places/efficientnet_best_model.h5\n"
          ]
        },
        {
          "output_type": "stream",
          "name": "stderr",
          "text": [
            "WARNING:absl:You are saving your model as an HDF5 file via `model.save()` or `keras.saving.save_model(model)`. This file format is considered legacy. We recommend using instead the native Keras format, e.g. `model.save('my_model.keras')` or `keras.saving.save_model(model, 'my_model.keras')`. \n"
          ]
        },
        {
          "output_type": "stream",
          "name": "stdout",
          "text": [
            "\b\b\b\b\b\b\b\b\b\b\b\b\b\b\b\b\b\b\b\b\b\b\b\b\b\b\b\b\b\b\b\b\b\b\b\b\b\b\b\b\b\b\b\b\b\b\b\b\b\b\b\b\b\b\b\b\b\b\b\b\b\b\b\b\b\b\b\b\b\b\b\b\b\b\r\u001b[1m96/96\u001b[0m \u001b[32m━━━━━━━━━━━━━━━━━━━━\u001b[0m\u001b[37m\u001b[0m \u001b[1m76s\u001b[0m 791ms/step - accuracy: 0.4588 - loss: 2.7636 - val_accuracy: 0.5784 - val_loss: 2.5333 - learning_rate: 1.0000e-05\n"
          ]
        },
        {
          "output_type": "stream",
          "name": "stderr",
          "text": [
            "WARNING:absl:You are saving your model as an HDF5 file via `model.save()` or `keras.saving.save_model(model)`. This file format is considered legacy. We recommend using instead the native Keras format, e.g. `model.save('my_model.keras')` or `keras.saving.save_model(model, 'my_model.keras')`. \n"
          ]
        },
        {
          "output_type": "stream",
          "name": "stdout",
          "text": [
            "\u001b[1m96/96\u001b[0m \u001b[32m━━━━━━━━━━━━━━━━━━━━\u001b[0m\u001b[37m\u001b[0m \u001b[1m19s\u001b[0m 197ms/step - accuracy: 0.5695 - loss: 2.5629\n",
            "Test Loss: 2.533306360244751\n",
            "Test Accuracy: 0.5783606767654419\n"
          ]
        }
      ]
    },
    {
      "cell_type": "markdown",
      "source": [
        "Unfreez more layers for better accuracy"
      ],
      "metadata": {
        "id": "mursUj0gVa-l"
      }
    },
    {
      "cell_type": "code",
      "source": [
        "import tensorflow as tf\n",
        "from tensorflow.keras.preprocessing.image import ImageDataGenerator\n",
        "from tensorflow.keras.callbacks import ReduceLROnPlateau, ModelCheckpoint\n",
        "\n",
  
        "model = tf.keras.models.load_model('/content/drive/MyDrive/ColabNotebooks/data/famous_places/efficientnet_model_fine_tuned.h5')\n",
        "\n",

        "base_model = model.layers[0]\n",
        "\n",

        "base_model.trainable = True\n",
        "fine_tune_at = 20  \n",
        "\n",

        "for layer in base_model.layers[:fine_tune_at]:\n",
        "    layer.trainable = False\n",
        "\n",

        "model.compile(optimizer=tf.keras.optimizers.Adam(learning_rate=0.00001),\n",
        "              loss='categorical_crossentropy', metrics=['accuracy'])\n",
        "\n",

        "train_datagen = ImageDataGenerator(\n",
        "    rescale=1./255,\n",
        "    rotation_range=50, \n",
        "    width_shift_range=0.4,\n",
        "    height_shift_range=0.4, \n",
        "    shear_range=0.4,  \n",
        "    zoom_range=0.4,  \n",
        "    horizontal_flip=True,\n",
        "    fill_mode='nearest',\n",
        "    brightness_range=[0.3, 1.7],  \n",
        "    channel_shift_range=70.0,  \n",
        "    vertical_flip=True  \n",
        ")\n",
        "\n",
        "test_datagen = ImageDataGenerator(rescale=1./255)\n",
        "\n",
        "train_generator = train_datagen.flow_from_directory(\n",
        "    '/content/drive/MyDrive/ColabNotebooks/data/famous_places/split/train', \n",
        "    target_size=(224, 224),\n",
        "    batch_size=32,\n",
        "    class_mode='categorical'\n",
        ")\n",
        "\n",
        "test_generator = test_datagen.flow_from_directory(\n",
        "    '/content/drive/MyDrive/ColabNotebooks/data/famous_places/split/test',  \n",
        "    target_size=(224, 224),\n",
        "    batch_size=32,\n",
        "    class_mode='categorical'\n",
        ")\n",
        "\n",

        "history_fine_tune = model.fit(\n",
        "    train_generator,\n",
        "    epochs=10,\n",
        "    validation_data=test_generator,\n",
        "        callbacks=[\n",
        "        ReduceLROnPlateau(\n",
        "            monitor='val_loss',\n",
        "            factor=0.1,\n",
        "            patience=3,\n",
        "            min_lr=1e-6,\n",
        "            verbose=1\n",
        "        ),\n",
        "        ModelCheckpoint(\n",
        "            '/content/drive/MyDrive/ColabNotebooks/data/famous_places/efficientnet_best_model_fine_tuned.keras',\n",
        "            monitor='val_loss',\n",
        "            save_best_only=True,\n",
        "            verbose=1,\n",
        "            save_weights_only=False\n",
        "        )\n",
        "    ]\n",
        ")\n",
        "\n",
        "model.save('/content/drive/MyDrive/ColabNotebooks/data/famous_places/efficientnet_model_fine_tuned_v2.keras') \n",
        "\n",

        "test_loss, test_accuracy = model.evaluate(test_generator)\n",
        "\n",
        "print(f\"Test Loss: {test_loss}\")\n",
        "print(f\"Test Accuracy: {test_accuracy}\")\n"
      ],
      "metadata": {
        "colab": {
          "base_uri": "https://localhost:8080/"
        },
        "id": "dFIVEjZAVagU",
        "outputId": "57bb092e-b6db-44c5-a9a4-63dbcd495fbf"
      },
      "execution_count": null,
      "outputs": [
        {
          "output_type": "stream",
          "name": "stderr",
          "text": [
            "WARNING:absl:Compiled the loaded model, but the compiled metrics have yet to be built. `model.compile_metrics` will be empty until you train or evaluate the model.\n"
          ]
        },
        {
          "output_type": "stream",
          "name": "stdout",
          "text": [
            "Found 3050 images belonging to 50 classes.\n",
            "Found 3050 images belonging to 50 classes.\n",
            "Epoch 1/10\n",
            "\u001b[1m96/96\u001b[0m \u001b[32m━━━━━━━━━━━━━━━━━━━━\u001b[0m\u001b[37m\u001b[0m \u001b[1m0s\u001b[0m 933ms/step - accuracy: 0.1001 - loss: 3.6512\n",
            "Epoch 1: val_loss improved from inf to 4.35794, saving model to /content/drive/MyDrive/ColabNotebooks/data/famous_places/efficientnet_best_model_fine_tuned.keras\n",
            "\u001b[1m96/96\u001b[0m \u001b[32m━━━━━━━━━━━━━━━━━━━━\u001b[0m\u001b[37m\u001b[0m \u001b[1m184s\u001b[0m 1s/step - accuracy: 0.1001 - loss: 3.6509 - val_accuracy: 0.0289 - val_loss: 4.3579 - learning_rate: 1.0000e-05\n",
            "Epoch 2/10\n",
            "\u001b[1m96/96\u001b[0m \u001b[32m━━━━━━━━━━━━━━━━━━━━\u001b[0m\u001b[37m\u001b[0m \u001b[1m0s\u001b[0m 660ms/step - accuracy: 0.1111 - loss: 3.5774\n",
            "Epoch 2: val_loss improved from 4.35794 to 3.91760, saving model to /content/drive/MyDrive/ColabNotebooks/data/famous_places/efficientnet_best_model_fine_tuned.keras\n",
            "\u001b[1m96/96\u001b[0m \u001b[32m━━━━━━━━━━━━━━━━━━━━\u001b[0m\u001b[37m\u001b[0m \u001b[1m86s\u001b[0m 890ms/step - accuracy: 0.1111 - loss: 3.5771 - val_accuracy: 0.0302 - val_loss: 3.9176 - learning_rate: 1.0000e-05\n",
            "Epoch 3/10\n",
            "\u001b[1m96/96\u001b[0m \u001b[32m━━━━━━━━━━━━━━━━━━━━\u001b[0m\u001b[37m\u001b[0m \u001b[1m0s\u001b[0m 653ms/step - accuracy: 0.1379 - loss: 3.4634\n",
            "Epoch 3: val_loss improved from 3.91760 to 3.89225, saving model to /content/drive/MyDrive/ColabNotebooks/data/famous_places/efficientnet_best_model_fine_tuned.keras\n",
            "\u001b[1m96/96\u001b[0m \u001b[32m━━━━━━━━━━━━━━━━━━━━\u001b[0m\u001b[37m\u001b[0m \u001b[1m82s\u001b[0m 859ms/step - accuracy: 0.1379 - loss: 3.4635 - val_accuracy: 0.0269 - val_loss: 3.8923 - learning_rate: 1.0000e-05\n",
            "Epoch 4/10\n",
            "\u001b[1m96/96\u001b[0m \u001b[32m━━━━━━━━━━━━━━━━━━━━\u001b[0m\u001b[37m\u001b[0m \u001b[1m0s\u001b[0m 642ms/step - accuracy: 0.1383 - loss: 3.4524\n",
            "Epoch 4: val_loss improved from 3.89225 to 3.73275, saving model to /content/drive/MyDrive/ColabNotebooks/data/famous_places/efficientnet_best_model_fine_tuned.keras\n",
            "\u001b[1m96/96\u001b[0m \u001b[32m━━━━━━━━━━━━━━━━━━━━\u001b[0m\u001b[37m\u001b[0m \u001b[1m81s\u001b[0m 842ms/step - accuracy: 0.1384 - loss: 3.4521 - val_accuracy: 0.0938 - val_loss: 3.7328 - learning_rate: 1.0000e-05\n",
            "Epoch 5/10\n",
            "\u001b[1m96/96\u001b[0m \u001b[32m━━━━━━━━━━━━━━━━━━━━\u001b[0m\u001b[37m\u001b[0m \u001b[1m0s\u001b[0m 643ms/step - accuracy: 0.1607 - loss: 3.3797\n",
            "Epoch 5: val_loss improved from 3.73275 to 3.16436, saving model to /content/drive/MyDrive/ColabNotebooks/data/famous_places/efficientnet_best_model_fine_tuned.keras\n",
            "\u001b[1m96/96\u001b[0m \u001b[32m━━━━━━━━━━━━━━━━━━━━\u001b[0m\u001b[37m\u001b[0m \u001b[1m83s\u001b[0m 855ms/step - accuracy: 0.1608 - loss: 3.3796 - val_accuracy: 0.2921 - val_loss: 3.1644 - learning_rate: 1.0000e-05\n",
            "Epoch 6/10\n",
            "\u001b[1m96/96\u001b[0m \u001b[32m━━━━━━━━━━━━━━━━━━━━\u001b[0m\u001b[37m\u001b[0m \u001b[1m0s\u001b[0m 636ms/step - accuracy: 0.1730 - loss: 3.3554\n",
            "Epoch 6: val_loss improved from 3.16436 to 2.84094, saving model to /content/drive/MyDrive/ColabNotebooks/data/famous_places/efficientnet_best_model_fine_tuned.keras\n",
            "\u001b[1m96/96\u001b[0m \u001b[32m━━━━━━━━━━━━━━━━━━━━\u001b[0m\u001b[37m\u001b[0m \u001b[1m142s\u001b[0m 854ms/step - accuracy: 0.1731 - loss: 3.3550 - val_accuracy: 0.3738 - val_loss: 2.8409 - learning_rate: 1.0000e-05\n",
            "Epoch 7/10\n",
            "\u001b[1m96/96\u001b[0m \u001b[32m━━━━━━━━━━━━━━━━━━━━\u001b[0m\u001b[37m\u001b[0m \u001b[1m0s\u001b[0m 629ms/step - accuracy: 0.2094 - loss: 3.2482\n",
            "Epoch 7: val_loss improved from 2.84094 to 2.66659, saving model to /content/drive/MyDrive/ColabNotebooks/data/famous_places/efficientnet_best_model_fine_tuned.keras\n",
            "\u001b[1m96/96\u001b[0m \u001b[32m━━━━━━━━━━━━━━━━━━━━\u001b[0m\u001b[37m\u001b[0m \u001b[1m82s\u001b[0m 856ms/step - accuracy: 0.2093 - loss: 3.2484 - val_accuracy: 0.3990 - val_loss: 2.6666 - learning_rate: 1.0000e-05\n",
            "Epoch 8/10\n",
            "\u001b[1m96/96\u001b[0m \u001b[32m━━━━━━━━━━━━━━━━━━━━\u001b[0m\u001b[37m\u001b[0m \u001b[1m0s\u001b[0m 650ms/step - accuracy: 0.2125 - loss: 3.2261\n",
            "Epoch 8: val_loss improved from 2.66659 to 2.58997, saving model to /content/drive/MyDrive/ColabNotebooks/data/famous_places/efficientnet_best_model_fine_tuned.keras\n",
            "\u001b[1m96/96\u001b[0m \u001b[32m━━━━━━━━━━━━━━━━━━━━\u001b[0m\u001b[37m\u001b[0m \u001b[1m84s\u001b[0m 878ms/step - accuracy: 0.2126 - loss: 3.2258 - val_accuracy: 0.4184 - val_loss: 2.5900 - learning_rate: 1.0000e-05\n",
            "Epoch 9/10\n",
            "\u001b[1m96/96\u001b[0m \u001b[32m━━━━━━━━━━━━━━━━━━━━\u001b[0m\u001b[37m\u001b[0m \u001b[1m0s\u001b[0m 645ms/step - accuracy: 0.2349 - loss: 3.1246\n",
            "Epoch 9: val_loss improved from 2.58997 to 2.51367, saving model to /content/drive/MyDrive/ColabNotebooks/data/famous_places/efficientnet_best_model_fine_tuned.keras\n",
            "\u001b[1m96/96\u001b[0m \u001b[32m━━━━━━━━━━━━━━━━━━━━\u001b[0m\u001b[37m\u001b[0m \u001b[1m140s\u001b[0m 852ms/step - accuracy: 0.2348 - loss: 3.1246 - val_accuracy: 0.4321 - val_loss: 2.5137 - learning_rate: 1.0000e-05\n",
            "Epoch 10/10\n",
            "\u001b[1m96/96\u001b[0m \u001b[32m━━━━━━━━━━━━━━━━━━━━\u001b[0m\u001b[37m\u001b[0m \u001b[1m0s\u001b[0m 638ms/step - accuracy: 0.2182 - loss: 3.1281\n",
            "Epoch 10: val_loss improved from 2.51367 to 2.41585, saving model to /content/drive/MyDrive/ColabNotebooks/data/famous_places/efficientnet_best_model_fine_tuned.keras\n",
            "\u001b[1m96/96\u001b[0m \u001b[32m━━━━━━━━━━━━━━━━━━━━\u001b[0m\u001b[37m\u001b[0m \u001b[1m83s\u001b[0m 865ms/step - accuracy: 0.2183 - loss: 3.1277 - val_accuracy: 0.4708 - val_loss: 2.4159 - learning_rate: 1.0000e-05\n",
            "\u001b[1m96/96\u001b[0m \u001b[32m━━━━━━━━━━━━━━━━━━━━\u001b[0m\u001b[37m\u001b[0m \u001b[1m19s\u001b[0m 195ms/step - accuracy: 0.4814 - loss: 2.3975\n",
            "Test Loss: 2.4158546924591064\n",
            "Test Accuracy: 0.4708196818828583\n"
          ]
        }
      ]
    }
  ]
}
